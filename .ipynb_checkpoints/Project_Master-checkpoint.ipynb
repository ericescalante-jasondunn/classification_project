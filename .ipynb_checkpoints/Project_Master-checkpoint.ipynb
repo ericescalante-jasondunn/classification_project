{
 "cells": [
  {
   "cell_type": "markdown",
   "metadata": {},
   "source": [
    "# Classification Project\n",
    "\n",
    "1. [Goals](#Goals)\n",
    "1. [Questions](#Questions)\n",
    "1. [Specification](#Specification)\n",
    "1. [Deliverables](#Deliverables)\n",
    "1. [Prepare the Environment](#Prepare-the-Environment)\n",
    "1. [Acquistion](#Acquisition)\n",
    "1. [Data Prep](#Data-Prep)\n",
    "1. [Data Exploration](#Data-Exploration)\n",
    "1. [Modeling](#Modeling)"
   ]
  },
  {
   "cell_type": "markdown",
   "metadata": {},
   "source": [
    "### Goals\n",
    "\n",
    "- Why are our customers churning?"
   ]
  },
  {
   "cell_type": "markdown",
   "metadata": {},
   "source": [
    "### Questions\n",
    "\n",
    "- Could the month in which they signed up influence churn? i.e. if a cohort is identified by tenure, is there a cohort or cohorts who have a higher rate of churn than other cohorts? (Plot the rate of churn on a line chart where x is the tenure and y is the rate of churn (customers churned/total customers))\n",
    "\n",
    "- Are there features that indicate a higher propensity to churn? like type of \n",
    "internet service, type of phone service, online security and backup, senior citizens, paying more than x% of customers with the same services, etc.?\n",
    "\n",
    "- Is there a price threshold for specific services where the likelihood of churn increases once price for those services goes past that point? If so, what is that point for what service(s)?\n",
    "\n",
    "- If we looked at churn rate for month-to-month customers after the 12th month and that of 1-year contract customers after the 12th month, are those rates comparable?"
   ]
  },
  {
   "cell_type": "markdown",
   "metadata": {},
   "source": [
    "### Deliverables\n",
    "\n",
    "1. I will also need a report (ipynb) answering the question, \"Why are our customers churning?\" I want to see the analysis you did to answer my questions and lead to your findings. Please clearly call out the questions and answers you are analyzing. E.g. If you find that month-to-month customers churn more, I won't be surprised, but I am not getting rid of that plan. The fact that they churn is not because they can, it's because they can and they are motivated to do so. I want some insight into why they are motivated to do so. I realize you will not be able to do a full causal experiment, but I hope to see some solid evidence of your conclusions.\n",
    "\n",
    "2. I will need you to deliver to me a csv with the customer_id, probability of churn, and the prediction of churn (1=churn, 0=not_churn). I would also like a single goolgle slide that illustrates how your model works, including the features being used, so that I can deliver this to the SLT when they come with questions about how these values were derived. Please make sure you include how likely your model is to give a high probability of churn when churn doesn't occur, to give a low probability of churn when churn occurs, and to accurately predict churn.\n",
    "\n",
    "3. Finally, our development team will need a .py file that will take in a new dataset, (in the exact same form of the one you acquired from telco_churn.customers) and perform all the transformations necessary to run the model you have developed on this new dataset to provide probabilities and predictions."
   ]
  },
  {
   "cell_type": "markdown",
   "metadata": {},
   "source": [
    "### Specification\n",
    "\n",
    "Detailed instructions for each section are below.\n",
    "\n",
    "In general, make sure you document your work. You don't need to explain what every line of code is doing, but you should explain what and why you are doing. For example, if you drop a feature from the dataset, you should explain why you decided to do so, or why that is a reasonable thing to do. If you transform the data in a column, you should explain why you are making that transformation.\n",
    "\n",
    "In addition, you should not present numers in isolation. If your code outputs a number, be sure you give some context to the number.\n",
    "\n",
    "Specific Deliverables:\n",
    "\n",
    "- a jupyter notebook where your work takes place\n",
    "- a csv file that predicts churn for each customer\n",
    "- a python script that prepares data such that it can be fed into your model\n",
    "- a google slide summarizing your model\n",
    "- a README.md file that contains a link to your google slides presentation, and instructions for how to use your python script(s)"
   ]
  },
  {
   "cell_type": "markdown",
   "metadata": {},
   "source": [
    "## Prepare the Environment"
   ]
  },
  {
   "cell_type": "code",
   "execution_count": 25,
   "metadata": {},
   "outputs": [],
   "source": [
    "# ignore warnings\n",
    "import warnings\n",
    "warnings.filterwarnings(\"ignore\")\n",
    "\n",
    "import pandas as pd\n",
    "import numpy as np\n",
    "\n",
    "from pydataset import data\n",
    "\n",
    "# Logistc Regression\n",
    "from sklearn.linear_model import LogisticRegression\n",
    "\n",
    "# Decision Tree\n",
    "from sklearn.tree import DecisionTreeClassifier\n",
    "from sklearn import tree\n",
    "\n",
    "# KNN\n",
    "from sklearn.neighbors import KNeighborsClassifier\n",
    "\n",
    "# Random Forest\n",
    "from sklearn.ensemble import RandomForestClassifier\n",
    "\n",
    "# All modeling\n",
    "from sklearn.model_selection import train_test_split\n",
    "from sklearn.metrics import classification_report\n",
    "from sklearn.metrics import confusion_matrix\n",
    "\n",
    "from sklearn.preprocessing import MinMaxScaler\n",
    "\n",
    "import graphviz\n",
    "\n",
    "from graphviz import Graph\n",
    "\n",
    "from sklearn.preprocessing import LabelEncoder\n",
    "\n",
    "import matplotlib.pyplot as plt\n",
    "%matplotlib inline\n",
    "\n",
    "import matplotlib.pyplot as plt\n",
    "import scipy as sp\n",
    "import seaborn as sns\n",
    "\n",
    "from env import host, user, password"
   ]
  },
  {
   "cell_type": "markdown",
   "metadata": {},
   "source": [
    "## Acquisition"
   ]
  },
  {
   "cell_type": "markdown",
   "metadata": {},
   "source": [
    "1. Get the data from the ```customers``` table from the ```telco_churn``` database on the codeup data science database server.\n",
    "\n",
    "    - You may wish to join some tables as part of your query.\n",
    "    - This data should end up in a pandas data frame."
   ]
  },
  {
   "cell_type": "code",
   "execution_count": 2,
   "metadata": {},
   "outputs": [],
   "source": [
    "def get_db_url(hostname: str, username: str, password: str, db_name: str) -> str:\n",
    "    return f\"mysql+pymysql://{username}:{password}@{hostname}/{db_name}\"\n",
    "\n",
    "\n",
    "def get_sql_conn(hostname: str, username: str, password: str, db_name: str):\n",
    "    return create_engine(get_db_url(host, user, password, db_name))\n",
    "\n",
    "\n",
    "def df_from_sql(query: str, url: str) -> pd.DataFrame:\n",
    "    return pd.read_sql(query, url)\n",
    "\n",
    "\n",
    "def get_telco_data() -> pd.DataFrame:\n",
    "    db = \"telco_churn\"\n",
    "    query = (\"SELECT * \"\n",
    "             f\"FROM customers;\")\n",
    "    url = get_db_url(host, user, password, db)\n",
    "    return df_from_sql(query, url)"
   ]
  },
  {
   "cell_type": "code",
   "execution_count": 3,
   "metadata": {},
   "outputs": [],
   "source": [
    "df = get_telco_data()"
   ]
  },
  {
   "cell_type": "code",
   "execution_count": 4,
   "metadata": {},
   "outputs": [
    {
     "data": {
      "text/html": [
       "<div>\n",
       "<style scoped>\n",
       "    .dataframe tbody tr th:only-of-type {\n",
       "        vertical-align: middle;\n",
       "    }\n",
       "\n",
       "    .dataframe tbody tr th {\n",
       "        vertical-align: top;\n",
       "    }\n",
       "\n",
       "    .dataframe thead th {\n",
       "        text-align: right;\n",
       "    }\n",
       "</style>\n",
       "<table border=\"1\" class=\"dataframe\">\n",
       "  <thead>\n",
       "    <tr style=\"text-align: right;\">\n",
       "      <th></th>\n",
       "      <th>customer_id</th>\n",
       "      <th>gender</th>\n",
       "      <th>senior_citizen</th>\n",
       "      <th>partner</th>\n",
       "      <th>dependents</th>\n",
       "      <th>tenure</th>\n",
       "      <th>phone_service</th>\n",
       "      <th>multiple_lines</th>\n",
       "      <th>internet_service_type_id</th>\n",
       "      <th>online_security</th>\n",
       "      <th>...</th>\n",
       "      <th>device_protection</th>\n",
       "      <th>tech_support</th>\n",
       "      <th>streaming_tv</th>\n",
       "      <th>streaming_movies</th>\n",
       "      <th>contract_type_id</th>\n",
       "      <th>paperless_billing</th>\n",
       "      <th>payment_type_id</th>\n",
       "      <th>monthly_charges</th>\n",
       "      <th>total_charges</th>\n",
       "      <th>churn</th>\n",
       "    </tr>\n",
       "  </thead>\n",
       "  <tbody>\n",
       "    <tr>\n",
       "      <th>0</th>\n",
       "      <td>0002-ORFBO</td>\n",
       "      <td>Female</td>\n",
       "      <td>0</td>\n",
       "      <td>Yes</td>\n",
       "      <td>Yes</td>\n",
       "      <td>9</td>\n",
       "      <td>Yes</td>\n",
       "      <td>No</td>\n",
       "      <td>1</td>\n",
       "      <td>No</td>\n",
       "      <td>...</td>\n",
       "      <td>No</td>\n",
       "      <td>Yes</td>\n",
       "      <td>Yes</td>\n",
       "      <td>No</td>\n",
       "      <td>2</td>\n",
       "      <td>Yes</td>\n",
       "      <td>2</td>\n",
       "      <td>65.6</td>\n",
       "      <td>593.3</td>\n",
       "      <td>No</td>\n",
       "    </tr>\n",
       "    <tr>\n",
       "      <th>1</th>\n",
       "      <td>0003-MKNFE</td>\n",
       "      <td>Male</td>\n",
       "      <td>0</td>\n",
       "      <td>No</td>\n",
       "      <td>No</td>\n",
       "      <td>9</td>\n",
       "      <td>Yes</td>\n",
       "      <td>Yes</td>\n",
       "      <td>1</td>\n",
       "      <td>No</td>\n",
       "      <td>...</td>\n",
       "      <td>No</td>\n",
       "      <td>No</td>\n",
       "      <td>No</td>\n",
       "      <td>Yes</td>\n",
       "      <td>1</td>\n",
       "      <td>No</td>\n",
       "      <td>2</td>\n",
       "      <td>59.9</td>\n",
       "      <td>542.4</td>\n",
       "      <td>No</td>\n",
       "    </tr>\n",
       "    <tr>\n",
       "      <th>2</th>\n",
       "      <td>0004-TLHLJ</td>\n",
       "      <td>Male</td>\n",
       "      <td>0</td>\n",
       "      <td>No</td>\n",
       "      <td>No</td>\n",
       "      <td>4</td>\n",
       "      <td>Yes</td>\n",
       "      <td>No</td>\n",
       "      <td>2</td>\n",
       "      <td>No</td>\n",
       "      <td>...</td>\n",
       "      <td>Yes</td>\n",
       "      <td>No</td>\n",
       "      <td>No</td>\n",
       "      <td>No</td>\n",
       "      <td>1</td>\n",
       "      <td>Yes</td>\n",
       "      <td>1</td>\n",
       "      <td>73.9</td>\n",
       "      <td>280.85</td>\n",
       "      <td>Yes</td>\n",
       "    </tr>\n",
       "    <tr>\n",
       "      <th>3</th>\n",
       "      <td>0011-IGKFF</td>\n",
       "      <td>Male</td>\n",
       "      <td>1</td>\n",
       "      <td>Yes</td>\n",
       "      <td>No</td>\n",
       "      <td>13</td>\n",
       "      <td>Yes</td>\n",
       "      <td>No</td>\n",
       "      <td>2</td>\n",
       "      <td>No</td>\n",
       "      <td>...</td>\n",
       "      <td>Yes</td>\n",
       "      <td>No</td>\n",
       "      <td>Yes</td>\n",
       "      <td>Yes</td>\n",
       "      <td>1</td>\n",
       "      <td>Yes</td>\n",
       "      <td>1</td>\n",
       "      <td>98.0</td>\n",
       "      <td>1237.85</td>\n",
       "      <td>Yes</td>\n",
       "    </tr>\n",
       "    <tr>\n",
       "      <th>4</th>\n",
       "      <td>0013-EXCHZ</td>\n",
       "      <td>Female</td>\n",
       "      <td>1</td>\n",
       "      <td>Yes</td>\n",
       "      <td>No</td>\n",
       "      <td>3</td>\n",
       "      <td>Yes</td>\n",
       "      <td>No</td>\n",
       "      <td>2</td>\n",
       "      <td>No</td>\n",
       "      <td>...</td>\n",
       "      <td>No</td>\n",
       "      <td>Yes</td>\n",
       "      <td>Yes</td>\n",
       "      <td>No</td>\n",
       "      <td>1</td>\n",
       "      <td>Yes</td>\n",
       "      <td>2</td>\n",
       "      <td>83.9</td>\n",
       "      <td>267.4</td>\n",
       "      <td>Yes</td>\n",
       "    </tr>\n",
       "  </tbody>\n",
       "</table>\n",
       "<p>5 rows × 21 columns</p>\n",
       "</div>"
      ],
      "text/plain": [
       "  customer_id  gender  senior_citizen partner dependents  tenure  \\\n",
       "0  0002-ORFBO  Female               0     Yes        Yes       9   \n",
       "1  0003-MKNFE    Male               0      No         No       9   \n",
       "2  0004-TLHLJ    Male               0      No         No       4   \n",
       "3  0011-IGKFF    Male               1     Yes         No      13   \n",
       "4  0013-EXCHZ  Female               1     Yes         No       3   \n",
       "\n",
       "  phone_service multiple_lines  internet_service_type_id online_security  \\\n",
       "0           Yes             No                         1              No   \n",
       "1           Yes            Yes                         1              No   \n",
       "2           Yes             No                         2              No   \n",
       "3           Yes             No                         2              No   \n",
       "4           Yes             No                         2              No   \n",
       "\n",
       "   ...  device_protection tech_support streaming_tv streaming_movies  \\\n",
       "0  ...                 No          Yes          Yes               No   \n",
       "1  ...                 No           No           No              Yes   \n",
       "2  ...                Yes           No           No               No   \n",
       "3  ...                Yes           No          Yes              Yes   \n",
       "4  ...                 No          Yes          Yes               No   \n",
       "\n",
       "  contract_type_id  paperless_billing payment_type_id  monthly_charges  \\\n",
       "0                2                Yes               2             65.6   \n",
       "1                1                 No               2             59.9   \n",
       "2                1                Yes               1             73.9   \n",
       "3                1                Yes               1             98.0   \n",
       "4                1                Yes               2             83.9   \n",
       "\n",
       "   total_charges churn  \n",
       "0          593.3    No  \n",
       "1          542.4    No  \n",
       "2         280.85   Yes  \n",
       "3        1237.85   Yes  \n",
       "4          267.4   Yes  \n",
       "\n",
       "[5 rows x 21 columns]"
      ]
     },
     "execution_count": 4,
     "metadata": {},
     "output_type": "execute_result"
    }
   ],
   "source": [
    "df.head()"
   ]
  },
  {
   "cell_type": "markdown",
   "metadata": {},
   "source": [
    "2. Write a function, ```peekatdata(dataframe)```, that takes a dataframe as input and computes and returns the following:\n",
    "\n",
    "    - creates dataframe object ```head_df``` (df of the first 5 rows) and prints contents to screen\n",
    "\n",
    "    - creates dataframe object ```tail_df``` (df of the last 5 rows) and prints contents to screen\n",
    "\n",
    "    - creates tuple object ```shape_tuple``` (tuple of (nrows, ncols)) and prints tuple to screen\n",
    "\n",
    "    - creates dataframe object ```describe_df``` (summary statistics of all numeric variables) and prints contents to screen.\n",
    "\n",
    "    - prints to screen the information about a DataFrame including the index dtype and column dtypes, non-null values and memory usage."
   ]
  },
  {
   "cell_type": "code",
   "execution_count": 5,
   "metadata": {},
   "outputs": [],
   "source": [
    "def peekatdata(dataframe):\n",
    "    head_df = dataframe.head()\n",
    "    print(f\"HEAD\\n{head_df}\", end=\"\\n\\n\")\n",
    "\n",
    "    tail_df = dataframe.tail()\n",
    "    print(f\"TAIL\\n{tail_df}\", end=\"\\n\\n\")\n",
    "\n",
    "    shape_tuple = dataframe.shape\n",
    "    print(f\"SHAPE: {shape_tuple}\", end=\"\\n\\n\")\n",
    "\n",
    "    describe_df = dataframe.describe()\n",
    "    print(f\"DESCRIPTION\\n{describe_df}\", end=\"\\n\\n\")\n",
    "\n",
    "    print(f\"INFORMATION\")\n",
    "    dataframe.info()"
   ]
  },
  {
   "cell_type": "code",
   "execution_count": 6,
   "metadata": {},
   "outputs": [
    {
     "name": "stdout",
     "output_type": "stream",
     "text": [
      "HEAD\n",
      "  customer_id  gender  senior_citizen partner dependents  tenure  \\\n",
      "0  0002-ORFBO  Female               0     Yes        Yes       9   \n",
      "1  0003-MKNFE    Male               0      No         No       9   \n",
      "2  0004-TLHLJ    Male               0      No         No       4   \n",
      "3  0011-IGKFF    Male               1     Yes         No      13   \n",
      "4  0013-EXCHZ  Female               1     Yes         No       3   \n",
      "\n",
      "  phone_service multiple_lines  internet_service_type_id online_security  \\\n",
      "0           Yes             No                         1              No   \n",
      "1           Yes            Yes                         1              No   \n",
      "2           Yes             No                         2              No   \n",
      "3           Yes             No                         2              No   \n",
      "4           Yes             No                         2              No   \n",
      "\n",
      "   ...  device_protection tech_support streaming_tv streaming_movies  \\\n",
      "0  ...                 No          Yes          Yes               No   \n",
      "1  ...                 No           No           No              Yes   \n",
      "2  ...                Yes           No           No               No   \n",
      "3  ...                Yes           No          Yes              Yes   \n",
      "4  ...                 No          Yes          Yes               No   \n",
      "\n",
      "  contract_type_id  paperless_billing payment_type_id  monthly_charges  \\\n",
      "0                2                Yes               2             65.6   \n",
      "1                1                 No               2             59.9   \n",
      "2                1                Yes               1             73.9   \n",
      "3                1                Yes               1             98.0   \n",
      "4                1                Yes               2             83.9   \n",
      "\n",
      "   total_charges churn  \n",
      "0          593.3    No  \n",
      "1          542.4    No  \n",
      "2         280.85   Yes  \n",
      "3        1237.85   Yes  \n",
      "4          267.4   Yes  \n",
      "\n",
      "[5 rows x 21 columns]\n",
      "\n",
      "TAIL\n",
      "     customer_id  gender  senior_citizen partner dependents  tenure  \\\n",
      "7038  9987-LUTYD  Female               0      No         No      13   \n",
      "7039  9992-RRAMN    Male               0     Yes         No      22   \n",
      "7040  9992-UJOEL    Male               0      No         No       2   \n",
      "7041  9993-LHIEB    Male               0     Yes        Yes      67   \n",
      "7042  9995-HOTOH    Male               0     Yes        Yes      63   \n",
      "\n",
      "     phone_service    multiple_lines  internet_service_type_id  \\\n",
      "7038           Yes                No                         1   \n",
      "7039           Yes               Yes                         2   \n",
      "7040           Yes                No                         1   \n",
      "7041           Yes                No                         1   \n",
      "7042            No  No phone service                         1   \n",
      "\n",
      "     online_security  ...  device_protection tech_support streaming_tv  \\\n",
      "7038             Yes  ...                 No          Yes           No   \n",
      "7039              No  ...                 No           No           No   \n",
      "7040              No  ...                 No           No           No   \n",
      "7041             Yes  ...                Yes          Yes           No   \n",
      "7042             Yes  ...                Yes           No          Yes   \n",
      "\n",
      "     streaming_movies contract_type_id  paperless_billing payment_type_id  \\\n",
      "7038               No                2                 No               2   \n",
      "7039              Yes                1                Yes               1   \n",
      "7040               No                1                Yes               2   \n",
      "7041              Yes                3                 No               2   \n",
      "7042              Yes                3                 No               1   \n",
      "\n",
      "      monthly_charges  total_charges churn  \n",
      "7038            55.15          742.9    No  \n",
      "7039            85.10         1873.7   Yes  \n",
      "7040            50.30          92.75    No  \n",
      "7041            67.85        4627.65    No  \n",
      "7042            59.00         3707.6    No  \n",
      "\n",
      "[5 rows x 21 columns]\n",
      "\n",
      "SHAPE: (7043, 21)\n",
      "\n",
      "DESCRIPTION\n",
      "       senior_citizen       tenure  internet_service_type_id  \\\n",
      "count     7043.000000  7043.000000               7043.000000   \n",
      "mean         0.162147    32.371149                  1.872923   \n",
      "std          0.368612    24.559481                  0.737796   \n",
      "min          0.000000     0.000000                  1.000000   \n",
      "25%          0.000000     9.000000                  1.000000   \n",
      "50%          0.000000    29.000000                  2.000000   \n",
      "75%          0.000000    55.000000                  2.000000   \n",
      "max          1.000000    72.000000                  3.000000   \n",
      "\n",
      "       contract_type_id  payment_type_id  monthly_charges  \n",
      "count       7043.000000      7043.000000      7043.000000  \n",
      "mean           1.690473         2.315633        64.761692  \n",
      "std            0.833755         1.148907        30.090047  \n",
      "min            1.000000         1.000000        18.250000  \n",
      "25%            1.000000         1.000000        35.500000  \n",
      "50%            1.000000         2.000000        70.350000  \n",
      "75%            2.000000         3.000000        89.850000  \n",
      "max            3.000000         4.000000       118.750000  \n",
      "\n",
      "INFORMATION\n",
      "<class 'pandas.core.frame.DataFrame'>\n",
      "RangeIndex: 7043 entries, 0 to 7042\n",
      "Data columns (total 21 columns):\n",
      "customer_id                 7043 non-null object\n",
      "gender                      7043 non-null object\n",
      "senior_citizen              7043 non-null int64\n",
      "partner                     7043 non-null object\n",
      "dependents                  7043 non-null object\n",
      "tenure                      7043 non-null int64\n",
      "phone_service               7043 non-null object\n",
      "multiple_lines              7043 non-null object\n",
      "internet_service_type_id    7043 non-null int64\n",
      "online_security             7043 non-null object\n",
      "online_backup               7043 non-null object\n",
      "device_protection           7043 non-null object\n",
      "tech_support                7043 non-null object\n",
      "streaming_tv                7043 non-null object\n",
      "streaming_movies            7043 non-null object\n",
      "contract_type_id            7043 non-null int64\n",
      "paperless_billing           7043 non-null object\n",
      "payment_type_id             7043 non-null int64\n",
      "monthly_charges             7043 non-null float64\n",
      "total_charges               7043 non-null object\n",
      "churn                       7043 non-null object\n",
      "dtypes: float64(1), int64(5), object(15)\n",
      "memory usage: 1.1+ MB\n"
     ]
    }
   ],
   "source": [
    "peekatdata(df)"
   ]
  },
  {
   "cell_type": "markdown",
   "metadata": {},
   "source": [
    "## Data Preparation"
   ]
  },
  {
   "cell_type": "markdown",
   "metadata": {},
   "source": [
    "1. Write a function, ```df_value_counts(dataframe)```, that takes a dataframe as input and computes and returns the values by frequency for each column. The function should decide whether or not to bin the data for the value counts."
   ]
  },
  {
   "cell_type": "code",
   "execution_count": 7,
   "metadata": {},
   "outputs": [],
   "source": [
    "def df_value_counts(dataframe):\n",
    "    for col in df.columns:\n",
    "        n = df[col].unique().shape[0]\n",
    "        col_bins = min(n, 10)\n",
    "        print(f\"{col}:\")\n",
    "        if df[col].dtype in ['int64', 'float64'] and n > 10:\n",
    "            print(df[col].value_counts(bins=col_bins, sort=False))\n",
    "        else:\n",
    "            print(df[col].value_counts())\n",
    "        print(\"\\n\")"
   ]
  },
  {
   "cell_type": "code",
   "execution_count": 8,
   "metadata": {},
   "outputs": [
    {
     "name": "stdout",
     "output_type": "stream",
     "text": [
      "customer_id:\n",
      "1573-LGXBA    1\n",
      "8869-TORSS    1\n",
      "0365-GXEZS    1\n",
      "4800-CZMPC    1\n",
      "5220-AGAAX    1\n",
      "5519-NPHVG    1\n",
      "8740-CRYFY    1\n",
      "2894-QOJRX    1\n",
      "8150-QUDFX    1\n",
      "1597-LHYNC    1\n",
      "8514-VZHEB    1\n",
      "3887-PBQAO    1\n",
      "5655-JSMZM    1\n",
      "5961-VUSRV    1\n",
      "5002-GCQFH    1\n",
      "2252-ISRNH    1\n",
      "4061-UKJWL    1\n",
      "7273-TEFQD    1\n",
      "5649-VUKMC    1\n",
      "0266-GMEAO    1\n",
      "7606-BPHHN    1\n",
      "7128-GGCNO    1\n",
      "7928-VJYAB    1\n",
      "0386-CWRGM    1\n",
      "3230-JCNZS    1\n",
      "4077-CROMM    1\n",
      "3643-AHCFP    1\n",
      "3950-VPYJB    1\n",
      "6856-RAURS    1\n",
      "9210-IAHGH    1\n",
      "9286-DOJGF    1\n",
      "4958-XCBDQ    1\n",
      "1596-OQSPS    1\n",
      "5899-OUVKV    1\n",
      "3315-TOTBP    1\n",
      "2878-DHMIN    1\n",
      "7905-TVXTA    1\n",
      "4451-RWASJ    1\n",
      "7579-KKLOE    1\n",
      "3049-SOLAY    1\n",
      "1502-XFCVR    1\n",
      "5668-MEISB    1\n",
      "5954-BDFSG    1\n",
      "3125-RAHBV    1\n",
      "0940-OUQEC    1\n",
      "8640-SDGKB    1\n",
      "5575-GNVDE    1\n",
      "0020-JDNXP    1\n",
      "9732-OUYRN    1\n",
      "6140-QNRQQ    1\n",
      "0746-JTRFU    1\n",
      "7855-DIWPO    1\n",
      "6777-TGHTM    1\n",
      "9799-CAYJJ    1\n",
      "6177-PEVRA    1\n",
      "3904-UKFRE    1\n",
      "1047-RNXZV    1\n",
      "8608-OZTLB    1\n",
      "8819-IMISP    1\n",
      "1784-BXEFA    1\n",
      "6339-DKLMK    1\n",
      "5968-VXZLG    1\n",
      "0235-KGSLC    1\n",
      "8544-JNBOX    1\n",
      "8490-BXHEO    1\n",
      "7102-JJVTX    1\n",
      "9921-QFQUL    1\n",
      "7176-WIONM    1\n",
      "2898-MRKPI    1\n",
      "9985-MWVIX    1\n",
      "8735-NBLWT    1\n",
      "6645-MXQJT    1\n",
      "6630-UJZMY    1\n",
      "1131-QQZEB    1\n",
      "3680-CTHUH    1\n",
      "8336-TAVKX    1\n",
      "8166-ORCHU    1\n",
      "4115-NZRKS    1\n",
      "0549-CYCQN    1\n",
      "4316-XCSLJ    1\n",
      "9330-VOFSZ    1\n",
      "5088-QZLRL    1\n",
      "8853-TZDGH    1\n",
      "7394-LWLYN    1\n",
      "8901-HJXTF    1\n",
      "             ..\n",
      "0397-GZBBC    1\n",
      "2332-TODQS    1\n",
      "6504-VBLFL    1\n",
      "0730-KOAVE    1\n",
      "5567-WSELE    1\n",
      "6000-APYLU    1\n",
      "8204-TIFGJ    1\n",
      "2568-OIADY    1\n",
      "9134-WYRVP    1\n",
      "4913-EHYUI    1\n",
      "8945-GRKHX    1\n",
      "1644-IRKSF    1\n",
      "5996-DAOQL    1\n",
      "2791-SFVEW    1\n",
      "5461-QKNTN    1\n",
      "4322-RCYMT    1\n",
      "9378-FXTIZ    1\n",
      "4361-JEIVL    1\n",
      "3352-ALMCK    1\n",
      "8679-LZBMD    1\n",
      "9465-RWMXL    1\n",
      "0454-OKRCT    1\n",
      "1320-GVNHT    1\n",
      "8221-EQDGL    1\n",
      "9251-AWQGT    1\n",
      "5451-MHQOF    1\n",
      "4116-TZAQJ    1\n",
      "5130-YPIRV    1\n",
      "5656-MJEFC    1\n",
      "3097-NNSPB    1\n",
      "7047-YXDMZ    1\n",
      "6158-HDPXZ    1\n",
      "9279-CJEOJ    1\n",
      "8975-SKGRX    1\n",
      "6048-QBXKL    1\n",
      "2758-RNWXS    1\n",
      "2930-UOTMB    1\n",
      "4182-BGSIQ    1\n",
      "3021-VLNRJ    1\n",
      "5046-NUHWD    1\n",
      "0094-OIFMO    1\n",
      "8445-DNBAE    1\n",
      "0848-SOMKO    1\n",
      "7683-CBDKJ    1\n",
      "2133-TSRRM    1\n",
      "5498-TXHLF    1\n",
      "7825-ECJRF    1\n",
      "4918-QLLIW    1\n",
      "4750-UKWJK    1\n",
      "4760-XOHVN    1\n",
      "2843-CQMEG    1\n",
      "5701-SVCWR    1\n",
      "9552-TGUZV    1\n",
      "9068-FHQHD    1\n",
      "7145-FEJWU    1\n",
      "3798-EPWRR    1\n",
      "5816-SCGFC    1\n",
      "6582-PLFUU    1\n",
      "0516-WJVXC    1\n",
      "4927-WWOOZ    1\n",
      "2592-HODOV    1\n",
      "4818-QIUFN    1\n",
      "4501-UYKBC    1\n",
      "4213-HKBJO    1\n",
      "3668-QPYBK    1\n",
      "1319-YLZJG    1\n",
      "0550-DCXLH    1\n",
      "0295-PPHDO    1\n",
      "4815-TUMEQ    1\n",
      "8168-UQWWF    1\n",
      "5778-BVOFB    1\n",
      "8709-KRDVL    1\n",
      "6013-BHCAW    1\n",
      "0585-EGDDA    1\n",
      "5650-VDUDS    1\n",
      "2292-XQWSV    1\n",
      "4530-NDRKU    1\n",
      "1548-FEHVL    1\n",
      "0689-NKYLF    1\n",
      "8882-TLVRW    1\n",
      "9224-VTYID    1\n",
      "1099-BTKWT    1\n",
      "4290-BSXUX    1\n",
      "2451-YMUXS    1\n",
      "2969-VAPYH    1\n",
      "Name: customer_id, Length: 7043, dtype: int64\n",
      "\n",
      "\n",
      "gender:\n",
      "Male      3555\n",
      "Female    3488\n",
      "Name: gender, dtype: int64\n",
      "\n",
      "\n",
      "senior_citizen:\n",
      "0    5901\n",
      "1    1142\n",
      "Name: senior_citizen, dtype: int64\n",
      "\n",
      "\n",
      "partner:\n",
      "No     3641\n",
      "Yes    3402\n",
      "Name: partner, dtype: int64\n",
      "\n",
      "\n",
      "dependents:\n",
      "No     4933\n",
      "Yes    2110\n",
      "Name: dependents, dtype: int64\n",
      "\n",
      "\n",
      "tenure:\n",
      "(-0.073, 7.2]    1612\n",
      "(7.2, 14.4]       759\n",
      "(14.4, 21.6]      570\n",
      "(21.6, 28.8]      556\n",
      "(28.8, 36.0]      545\n",
      "(36.0, 43.2]      444\n",
      "(43.2, 50.4]      452\n",
      "(50.4, 57.6]      495\n",
      "(57.6, 64.8]      501\n",
      "(64.8, 72.0]     1109\n",
      "Name: tenure, dtype: int64\n",
      "\n",
      "\n",
      "phone_service:\n",
      "Yes    6361\n",
      "No      682\n",
      "Name: phone_service, dtype: int64\n",
      "\n",
      "\n",
      "multiple_lines:\n",
      "No                  3390\n",
      "Yes                 2971\n",
      "No phone service     682\n",
      "Name: multiple_lines, dtype: int64\n",
      "\n",
      "\n",
      "internet_service_type_id:\n",
      "2    3096\n",
      "1    2421\n",
      "3    1526\n",
      "Name: internet_service_type_id, dtype: int64\n",
      "\n",
      "\n",
      "online_security:\n",
      "No                     3498\n",
      "Yes                    2019\n",
      "No internet service    1526\n",
      "Name: online_security, dtype: int64\n",
      "\n",
      "\n",
      "online_backup:\n",
      "No                     3088\n",
      "Yes                    2429\n",
      "No internet service    1526\n",
      "Name: online_backup, dtype: int64\n",
      "\n",
      "\n",
      "device_protection:\n",
      "No                     3095\n",
      "Yes                    2422\n",
      "No internet service    1526\n",
      "Name: device_protection, dtype: int64\n",
      "\n",
      "\n",
      "tech_support:\n",
      "No                     3473\n",
      "Yes                    2044\n",
      "No internet service    1526\n",
      "Name: tech_support, dtype: int64\n",
      "\n",
      "\n",
      "streaming_tv:\n",
      "No                     2810\n",
      "Yes                    2707\n",
      "No internet service    1526\n",
      "Name: streaming_tv, dtype: int64\n",
      "\n",
      "\n",
      "streaming_movies:\n",
      "No                     2785\n",
      "Yes                    2732\n",
      "No internet service    1526\n",
      "Name: streaming_movies, dtype: int64\n",
      "\n",
      "\n",
      "contract_type_id:\n",
      "1    3875\n",
      "3    1695\n",
      "2    1473\n",
      "Name: contract_type_id, dtype: int64\n",
      "\n",
      "\n",
      "paperless_billing:\n",
      "Yes    4171\n",
      "No     2872\n",
      "Name: paperless_billing, dtype: int64\n",
      "\n",
      "\n",
      "payment_type_id:\n",
      "1    2365\n",
      "2    1612\n",
      "3    1544\n",
      "4    1522\n",
      "Name: payment_type_id, dtype: int64\n",
      "\n",
      "\n",
      "monthly_charges:\n",
      "(18.148999999999997, 28.3]    1606\n",
      "(28.3, 38.35]                  191\n",
      "(38.35, 48.4]                  365\n",
      "(48.4, 58.45]                  640\n",
      "(58.45, 68.5]                  474\n",
      "(68.5, 78.55]                  893\n",
      "(78.55, 88.6]                  953\n",
      "(88.6, 98.65]                  873\n",
      "(98.65, 108.7]                 754\n",
      "(108.7, 118.75]                294\n",
      "Name: monthly_charges, dtype: int64\n",
      "\n",
      "\n",
      "total_charges:\n",
      "20.2       11\n",
      "           11\n",
      "19.75       9\n",
      "20.05       8\n",
      "19.65       8\n",
      "19.9        8\n",
      "45.3        7\n",
      "19.55       7\n",
      "20.25       6\n",
      "20.15       6\n",
      "19.45       6\n",
      "20.45       5\n",
      "20.3        5\n",
      "19.2        4\n",
      "20.4        4\n",
      "19.3        4\n",
      "69.65       4\n",
      "20.5        4\n",
      "44.4        4\n",
      "49.9        4\n",
      "69.6        4\n",
      "75.3        4\n",
      "69.9        4\n",
      "70.6        4\n",
      "20.35       4\n",
      "69.95       4\n",
      "50.15       4\n",
      "19.95       4\n",
      "19.4        4\n",
      "19.5        4\n",
      "74.7        4\n",
      "19.85       4\n",
      "44          4\n",
      "70.15       3\n",
      "470.2       3\n",
      "20          3\n",
      "45.7        3\n",
      "305.55      3\n",
      "74.35       3\n",
      "20.9        3\n",
      "24.8        3\n",
      "2317.1      3\n",
      "50.45       3\n",
      "383.65      3\n",
      "79.55       3\n",
      "69.1        3\n",
      "69.25       3\n",
      "80.55       3\n",
      "70.45       3\n",
      "74.9        3\n",
      "25.25       3\n",
      "69.55       3\n",
      "45.85       3\n",
      "20.55       3\n",
      "20.1        3\n",
      "86.05       3\n",
      "24.4        3\n",
      "74.6        3\n",
      "35.9        3\n",
      "70.1        3\n",
      "85.5        3\n",
      "44.75       3\n",
      "220.45      3\n",
      "75.35       3\n",
      "70.3        3\n",
      "19.25       3\n",
      "1284.2      3\n",
      "85          3\n",
      "74.3        3\n",
      "50.6        3\n",
      "45.1        3\n",
      "50.75       3\n",
      "84.5        3\n",
      "19.1        3\n",
      "55.7        3\n",
      "3418.2      2\n",
      "307.4       2\n",
      "460.25      2\n",
      "246.3       2\n",
      "482.8       2\n",
      "683.25      2\n",
      "90.05       2\n",
      "145.15      2\n",
      "1130.85     2\n",
      "5682.25     2\n",
      "           ..\n",
      "1174.8      1\n",
      "3171.15     1\n",
      "673.1       1\n",
      "2854.95     1\n",
      "2135.5      1\n",
      "947.75      1\n",
      "59.05       1\n",
      "967.9       1\n",
      "2633.4      1\n",
      "7447.7      1\n",
      "2627.2      1\n",
      "5848.6      1\n",
      "244.1       1\n",
      "1028.75     1\n",
      "6263.8      1\n",
      "1281.25     1\n",
      "6713.2      1\n",
      "2658.4      1\n",
      "1184        1\n",
      "111.05      1\n",
      "5029.2      1\n",
      "2281.6      1\n",
      "3474.2      1\n",
      "7432.05     1\n",
      "5753.25     1\n",
      "1001.2      1\n",
      "2333.85     1\n",
      "1346.9      1\n",
      "1745.2      1\n",
      "332.65      1\n",
      "1097.15     1\n",
      "35.05       1\n",
      "395.6       1\n",
      "780.15      1\n",
      "411.15      1\n",
      "5919.35     1\n",
      "3053        1\n",
      "30.5        1\n",
      "1336.65     1\n",
      "7795.95     1\n",
      "5898.6      1\n",
      "141.65      1\n",
      "295.55      1\n",
      "2799.75     1\n",
      "1031.1      1\n",
      "2416.1      1\n",
      "1237.3      1\n",
      "1035.5      1\n",
      "1838.15     1\n",
      "730.4       1\n",
      "1339.8      1\n",
      "1336.15     1\n",
      "2490.15     1\n",
      "502.6       1\n",
      "2924.05     1\n",
      "3444.85     1\n",
      "4630.2      1\n",
      "4932.5      1\n",
      "647.5       1\n",
      "1301.9      1\n",
      "662.95      1\n",
      "5373.1      1\n",
      "4990.25     1\n",
      "6316.2      1\n",
      "2215.4      1\n",
      "5780.7      1\n",
      "1781.35     1\n",
      "3480.35     1\n",
      "1494.5      1\n",
      "93.85       1\n",
      "6416.7      1\n",
      "6819.45     1\n",
      "314.6       1\n",
      "2538.2      1\n",
      "1655.35     1\n",
      "2276.95     1\n",
      "1173.55     1\n",
      "5860.7      1\n",
      "2078.55     1\n",
      "139.35      1\n",
      "608.8       1\n",
      "6744.2      1\n",
      "5625.55     1\n",
      "1422.65     1\n",
      "1397.3      1\n",
      "Name: total_charges, Length: 6531, dtype: int64\n",
      "\n",
      "\n",
      "churn:\n",
      "No     5174\n",
      "Yes    1869\n",
      "Name: churn, dtype: int64\n",
      "\n",
      "\n"
     ]
    }
   ],
   "source": [
    "df_value_counts(df)"
   ]
  },
  {
   "cell_type": "markdown",
   "metadata": {},
   "source": [
    "2. Handle Missing Values\n",
    "\n",
    "    - Explore the data and see if there are any missing values.\n",
    "\n",
    "    Write a function that accepts a dataframe and returns the names of the columns that have missing values, and the percent of missing values in each column that has missing values.\n",
    "\n",
    "    - Document your takeaways. For each variable:\n",
    "\n",
    "        - should you remove the observations with a missing value for that variable?\n",
    "        - should you remove the variable altogether?\n",
    "        - is missing equivalent to 0 (or some other constant value) in the specific case of this variable?\n",
    "        - should you replace the missing values with a value it is most likely to represent (e.g. Are the missing values a result of data integrity issues and should be replaced by the most likely value?)\n",
    "        \n",
    "    - Handle the missing values in the way you recommended above."
   ]
  },
  {
   "cell_type": "code",
   "execution_count": 9,
   "metadata": {},
   "outputs": [
    {
     "data": {
      "text/plain": [
       "customer_id                  0\n",
       "gender                       0\n",
       "senior_citizen               0\n",
       "partner                      0\n",
       "dependents                   0\n",
       "tenure                       0\n",
       "phone_service                0\n",
       "multiple_lines               0\n",
       "internet_service_type_id     0\n",
       "online_security              0\n",
       "online_backup                0\n",
       "device_protection            0\n",
       "tech_support                 0\n",
       "streaming_tv                 0\n",
       "streaming_movies             0\n",
       "contract_type_id             0\n",
       "paperless_billing            0\n",
       "payment_type_id              0\n",
       "monthly_charges              0\n",
       "total_charges               11\n",
       "churn                        0\n",
       "dtype: int64"
      ]
     },
     "execution_count": 9,
     "metadata": {},
     "output_type": "execute_result"
    }
   ],
   "source": [
    "df['total_charges'] = df['total_charges'].replace(r'\\s+', np.nan, regex=True)\n",
    "df.isnull().sum()"
   ]
  },
  {
   "cell_type": "code",
   "execution_count": 10,
   "metadata": {},
   "outputs": [
    {
     "data": {
      "text/plain": [
       "customer_id                 0\n",
       "gender                      0\n",
       "senior_citizen              0\n",
       "partner                     0\n",
       "dependents                  0\n",
       "tenure                      0\n",
       "phone_service               0\n",
       "multiple_lines              0\n",
       "internet_service_type_id    0\n",
       "online_security             0\n",
       "online_backup               0\n",
       "device_protection           0\n",
       "tech_support                0\n",
       "streaming_tv                0\n",
       "streaming_movies            0\n",
       "contract_type_id            0\n",
       "paperless_billing           0\n",
       "payment_type_id             0\n",
       "monthly_charges             0\n",
       "total_charges               0\n",
       "churn                       0\n",
       "dtype: int64"
      ]
     },
     "execution_count": 10,
     "metadata": {},
     "output_type": "execute_result"
    }
   ],
   "source": [
    "df = df.fillna(0)\n",
    "df.isnull().sum()"
   ]
  },
  {
   "cell_type": "markdown",
   "metadata": {},
   "source": [
    "#### Transform ```churn``` such that \"yes\" = 1 and \"no\" = 0"
   ]
  },
  {
   "cell_type": "code",
   "execution_count": 11,
   "metadata": {},
   "outputs": [],
   "source": [
    "encoder = LabelEncoder()\n",
    "\n",
    "encoder.fit(df.churn)\n",
    "df.churn = encoder.transform(df.churn)"
   ]
  },
  {
   "cell_type": "code",
   "execution_count": 12,
   "metadata": {},
   "outputs": [
    {
     "data": {
      "text/plain": [
       "0    5174\n",
       "1    1869\n",
       "Name: churn, dtype: int64"
      ]
     },
     "execution_count": 12,
     "metadata": {},
     "output_type": "execute_result"
    }
   ],
   "source": [
    "df.churn.value_counts(dropna=False)"
   ]
  },
  {
   "cell_type": "markdown",
   "metadata": {},
   "source": [
    "#### Compute a new feature, ```tenure_year``` , that is a result of translating tenure from months to years."
   ]
  },
  {
   "cell_type": "markdown",
   "metadata": {},
   "source": [
    "#### *NEW variable tenure year*\n",
    "    tenure_year will calculate how many years of tenure based on the number of months"
   ]
  },
  {
   "cell_type": "code",
   "execution_count": 13,
   "metadata": {},
   "outputs": [],
   "source": [
    "df[['tenure_year']] = df[['tenure']]/12"
   ]
  },
  {
   "cell_type": "markdown",
   "metadata": {},
   "source": [
    "#### Figure out a way to capture the information contained in ```phone_service``` and ```multiple_lines``` into a single variable of dtype int. Write a function that will transform the data and place in a new column named ```phone_id```."
   ]
  },
  {
   "cell_type": "markdown",
   "metadata": {},
   "source": [
    "#### *New Variable* _'phone id'_\n",
    "    0 = Does phone service\n",
    "    1 = Has one phone line\n",
    "    2 = Has multiple lines"
   ]
  },
  {
   "cell_type": "code",
   "execution_count": 14,
   "metadata": {},
   "outputs": [],
   "source": [
    "df['phone_id'] = df['phone_service'].map(str) + df['multiple_lines']\n",
    "df['phone_id'] = df['phone_id'].replace({'NoNo phone service': 0, 'YesNo': 1, 'YesYes': 2})"
   ]
  },
  {
   "cell_type": "markdown",
   "metadata": {},
   "source": [
    "#### Figure out a way to capture the information contained in ```dependents``` and ```partner``` into a single variable of dtype int. Transform the data and place in a new column ```household_type_id```."
   ]
  },
  {
   "cell_type": "markdown",
   "metadata": {},
   "source": [
    "#### *New Variable* _'household type id'_\n",
    "    0 = Does not have a dependent or a partner\n",
    "    1 = Only has a dependent\n",
    "    2 = Only has a partner\n",
    "    3 = Has BOTH a dependent and a partner"
   ]
  },
  {
   "cell_type": "code",
   "execution_count": 15,
   "metadata": {},
   "outputs": [],
   "source": [
    "df['household_type_id'] = df['dependents'].map(str) + df['partner']\n",
    "df['household_type_id'] = df['household_type_id'].replace({'NoNo': 0, 'NoYes': 1, 'YesNo': 2, 'YesYes': 3})"
   ]
  },
  {
   "cell_type": "markdown",
   "metadata": {},
   "source": [
    "#### Figure out a way to capture the information contained in streaming_tv and streaming_movies into a single variable of dtype int. Transform the data and place in a new column streaming_services."
   ]
  },
  {
   "cell_type": "markdown",
   "metadata": {},
   "source": [
    "#### *New Variable* _'streaming services'_\n",
    "    0 = Does not have streaming services\n",
    "    1 = Only Movie Streaming Services\n",
    "    2 = Only TV Streaming Services\n",
    "    3 = Has BOTH Movie and TV Streaming Services"
   ]
  },
  {
   "cell_type": "code",
   "execution_count": 16,
   "metadata": {},
   "outputs": [],
   "source": [
    "df['streaming_services'] = df['streaming_tv'].map(str) + df['streaming_movies']\n",
    "df['streaming_services'] = df['streaming_services'].replace({'NoNo': 0, 'NoYes': 1, 'YesNo': 2, 'YesYes': 3})"
   ]
  },
  {
   "cell_type": "markdown",
   "metadata": {},
   "source": [
    "#### Figure out a way to capture the information contained in online_security and online_backup into a single variable of dtype int. Transform the data and place in a new column online_security_backup."
   ]
  },
  {
   "cell_type": "markdown",
   "metadata": {},
   "source": [
    "#### *New Variable* _'online security backup'_\n",
    "    0 = Does not have online security or backup\n",
    "    1 = Only has online security\n",
    "    2 = Only has online backup\n",
    "    3 = Has BOTH online security and online backup"
   ]
  },
  {
   "cell_type": "code",
   "execution_count": 17,
   "metadata": {},
   "outputs": [],
   "source": [
    "df['online_security_backup'] = df['online_security'].map(str) + df['online_backup']\n",
    "df['online_security_backup'] = df['online_security_backup'].replace({'NoNo': 0, 'NoYes': 1, 'YesNo': 2, 'YesYes': 3, 'No internet serviceNo internet service': 4})"
   ]
  },
  {
   "cell_type": "markdown",
   "metadata": {},
   "source": [
    "#### Split the data into train (70%) & test (30%) samples."
   ]
  },
  {
   "cell_type": "code",
   "execution_count": 18,
   "metadata": {},
   "outputs": [],
   "source": [
    "train_df, test_df = train_test_split(df, test_size=.30, random_state=123, stratify=df[['churn']])"
   ]
  },
  {
   "cell_type": "code",
   "execution_count": 19,
   "metadata": {},
   "outputs": [
    {
     "data": {
      "text/plain": [
       "array(['gender', 'senior_citizen', 'tenure', 'internet_service_type_id',\n",
       "       'device_protection', 'tech_support', 'contract_type_id',\n",
       "       'paperless_billing', 'payment_type_id', 'monthly_charges',\n",
       "       'total_charges', 'churn', 'tenure_year', 'phone_id',\n",
       "       'household_type_id', 'streaming_services',\n",
       "       'online_security_backup'], dtype=object)"
      ]
     },
     "execution_count": 19,
     "metadata": {},
     "output_type": "execute_result"
    }
   ],
   "source": [
    "cols_to_remove = ['customer_id', 'phone_service', 'multiple_lines', 'dependents', 'partner', 'streaming_tv', 'streaming_movies',\n",
    "                  'online_security', 'online_backup']\n",
    "\n",
    "train_df = train_df.drop(cols_to_remove, axis=1)\n",
    "train_df.columns.values"
   ]
  },
  {
   "cell_type": "markdown",
   "metadata": {},
   "source": [
    "#### Variable Encoding: encode the values in each non-numeric feature such that they are numeric."
   ]
  },
  {
   "cell_type": "code",
   "execution_count": 20,
   "metadata": {},
   "outputs": [],
   "source": [
    "### Function that will turn feature variables into boolean values\n",
    "def change_to_boolean(x):\n",
    "    if x == 'Yes':\n",
    "        new_val = 1\n",
    "    else:\n",
    "        new_val = 0\n",
    "    return new_val"
   ]
  },
  {
   "cell_type": "code",
   "execution_count": 21,
   "metadata": {},
   "outputs": [],
   "source": [
    "cols_to_bool = ['paperless_billing', 'device_protection', 'tech_support', 'streaming_services']\n",
    "\n",
    "for col in cols_to_bool:\n",
    "    new_col_name = 'has_'+col\n",
    "    train_df[new_col_name] = train_df[col].apply(lambda x: change_to_boolean(x))\n",
    "    train_df = train_df.drop([col], axis=1)"
   ]
  },
  {
   "cell_type": "markdown",
   "metadata": {},
   "source": [
    "#### Numeric Scaling: scale the monthly_charges and total_charges data. Make sure that the parameters for scaling are learned from the training data set."
   ]
  },
  {
   "cell_type": "code",
   "execution_count": 22,
   "metadata": {},
   "outputs": [],
   "source": [
    "scaler = MinMaxScaler()\n",
    "\n",
    "scaler.fit(train_df[['monthly_charges', 'total_charges']])\n",
    "\n",
    "train_df[['monthly_charges', 'total_charges']] = scaler.transform(train_df[['monthly_charges', 'total_charges']])\n",
    "test_df[['monthly_charges', 'total_charges']] = scaler.transform(test_df[['monthly_charges', 'total_charges']])"
   ]
  },
  {
   "cell_type": "markdown",
   "metadata": {},
   "source": [
    "## Data Exploration"
   ]
  },
  {
   "cell_type": "markdown",
   "metadata": {},
   "source": [
    "1. Could the month in which they signed up influence churn? i.e. if a cohort is identified by tenure, is there a cohort or cohorts who have a higher rate of churn than other cohorts? (Plot the rate of churn on a line chart where x is the tenure and y is the rate of churn (customers churned/total customers))."
   ]
  },
  {
   "cell_type": "code",
   "execution_count": 26,
   "metadata": {},
   "outputs": [
    {
     "data": {
      "text/plain": [
       "Text(0.5, 1.0, 'Rate of Churn')"
      ]
     },
     "execution_count": 26,
     "metadata": {},
     "output_type": "execute_result"
    },
    {
     "data": {
      "image/png": "[encoded data removed]",
      "text/plain": [
       "<Figure size 432x288 with 1 Axes>"
      ]
     },
     "metadata": {
      "needs_background": "light"
     },
     "output_type": "display_data"
    }
   ],
   "source": [
    "sns.lineplot(x='tenure', y='churn', data=train_df)\n",
    "plt.ylabel('Probability of Churn')\n",
    "plt.xlabel('Tenure Months')\n",
    "plt.title(\"Rate of Churn\")"
   ]
  },
  {
   "cell_type": "markdown",
   "metadata": {},
   "source": [
    "2. Are there features that indicate a higher propensity to churn? like type of internet service, type of phone service, online security and backup, senior citizens, paying more than x% of customers with the same services, etc.?"
   ]
  },
  {
   "cell_type": "code",
   "execution_count": 27,
   "metadata": {},
   "outputs": [
    {
     "data": {
      "text/plain": [
       "<matplotlib.axes._subplots.AxesSubplot at 0x1a17139780>"
      ]
     },
     "execution_count": 27,
     "metadata": {},
     "output_type": "execute_result"
    },
    {
     "data": {
      "image/png": "[encoded data removed]",
      "text/plain": [
       "<Figure size 1080x720 with 4 Axes>"
      ]
     },
     "metadata": {
      "needs_background": "light"
     },
     "output_type": "display_data"
    }
   ],
   "source": [
    "fig, ax = plt.subplots(2,2,figsize=(15,10))\n",
    "\n",
    "sns.barplot(x='phone_id', y='churn', data=train_df,ax=ax[0,0])\n",
    "sns.barplot(x='internet_service_type_id', y='churn', data=train_df,ax=ax[0,1])\n",
    "sns.barplot(x='online_security_backup', y='churn', data=train_df,ax=ax[1,0])\n",
    "sns.barplot(x='senior_citizen', y='churn', data=train_df,ax=ax[1,1])"
   ]
  },
  {
   "cell_type": "markdown",
   "metadata": {},
   "source": [
    "3. Is there a price threshold for specific services where the likelihood of churn increases once price for those services goes past that point? If so, what is that point for what service(s)?"
   ]
  },
  {
   "cell_type": "code",
   "execution_count": 28,
   "metadata": {},
   "outputs": [
    {
     "data": {
      "text/plain": [
       "<matplotlib.axes._subplots.AxesSubplot at 0x1a17245400>"
      ]
     },
     "execution_count": 28,
     "metadata": {},
     "output_type": "execute_result"
    },
    {
     "data": {
      "image/png": "[encoded data removed]",
      "text/plain": [
       "<Figure size 1080x432 with 2 Axes>"
      ]
     },
     "metadata": {
      "needs_background": "light"
     },
     "output_type": "display_data"
    }
   ],
   "source": [
    "fig, ax = plt.subplots(1,2,figsize=(15,6))\n",
    "\n",
    "sns.boxplot(x=\"phone_id\", y=\"monthly_charges\", data=train_df, ax=ax[0],\n",
    "           showcaps=True,boxprops={'facecolor':'None'}, showfliers=True,whiskerprops={'linewidth':0})\n",
    "sns.swarmplot(x=\"phone_id\", y=\"monthly_charges\", data=train_df, ax=ax[0], hue=\"churn\", palette=\"Set2\")\n",
    "\n",
    "sns.boxplot(x=\"internet_service_type_id\", y=\"monthly_charges\", data=train_df, ax=ax[1],\n",
    "           showcaps=True,boxprops={'facecolor':'None'}, showfliers=True,whiskerprops={'linewidth':0})\n",
    "sns.swarmplot(x=\"internet_service_type_id\", y=\"monthly_charges\", data=train_df, ax=ax[1], hue=\"churn\", palette=\"Set2\") "
   ]
  },
  {
   "cell_type": "markdown",
   "metadata": {},
   "source": [
    "4. If we looked at churn rate for month-to-month customers after the 12th month and that of 1-year contract customers after the 12th month, are those rates comparable?"
   ]
  },
  {
   "cell_type": "code",
   "execution_count": 43,
   "metadata": {},
   "outputs": [],
   "source": [
    "train_df['less_than_one'] = train_df['tenure_year'] <= 1\n",
    "train_df['more_than_one'] = train_df['tenure_year'] > 1\n",
    "\n",
    "test_df['less_than_one'] = test_df['tenure_year'] <= 1\n",
    "test_df['more_than_one'] = test_df['tenure_year'] > 1"
   ]
  },
  {
   "cell_type": "code",
   "execution_count": 58,
   "metadata": {},
   "outputs": [
    {
     "data": {
      "text/plain": [
       "<matplotlib.axes._subplots.AxesSubplot at 0x1a1893a400>"
      ]
     },
     "execution_count": 58,
     "metadata": {},
     "output_type": "execute_result"
    },
    {
     "data": {
      "image/png": "[encoded data removed]",
      "text/plain": [
       "<Figure size 1008x432 with 1 Axes>"
      ]
     },
     "metadata": {
      "needs_background": "light"
     },
     "output_type": "display_data"
    }
   ],
   "source": [
    "plt.figure(figsize=(14,6))\n",
    "sns.barplot(x='more_than_one', y='churn', hue='contract_type_id', data=train_df)"
   ]
  },
  {
   "cell_type": "markdown",
   "metadata": {},
   "source": [
    "**Hypothesis:*** Testing to see the difference between entry year customers and post 12 month customer as it relates to churn.\n",
    "\n",
    "    A large t-score with customers more than 1 year tells us that the groups are different\n",
    "    A small t-score with customers less than 1 year establishment tells us that the groups are similar"
   ]
  },
  {
   "cell_type": "code",
   "execution_count": 30,
   "metadata": {},
   "outputs": [
    {
     "data": {
      "text/plain": [
       "Ttest_indResult(statistic=9.830566343480967, pvalue=1.1988936511239781e-22)"
      ]
     },
     "execution_count": 30,
     "metadata": {},
     "output_type": "execute_result"
    }
   ],
   "source": [
    "sp.stats.ttest_ind(train_df[train_df.tenure_year <= 1].monthly_charges.dropna(), train_df.churn)"
   ]
  },
  {
   "cell_type": "code",
   "execution_count": 31,
   "metadata": {},
   "outputs": [
    {
     "data": {
      "text/plain": [
       "Ttest_indResult(statistic=27.56732365207348, pvalue=3.546705496180873e-160)"
      ]
     },
     "execution_count": 31,
     "metadata": {},
     "output_type": "execute_result"
    }
   ],
   "source": [
    "sp.stats.ttest_ind(train_df[train_df.tenure_year > 1].monthly_charges.dropna(), train_df.churn)"
   ]
  },
  {
   "cell_type": "markdown",
   "metadata": {},
   "source": [
    "5. Controlling for services (phone_id, internet_service_type_id, online_security_backup, device_protection, tech_support, and contract_type_id), is the mean monthly_charges of those who have churned significantly different from that of those who have not churned? (Use a t-test to answer this.)"
   ]
  },
  {
   "cell_type": "markdown",
   "metadata": {},
   "source": [
    "Does the phone_id have an effect on churn?"
   ]
  },
  {
   "cell_type": "code",
   "execution_count": 32,
   "metadata": {},
   "outputs": [
    {
     "data": {
      "text/plain": [
       "Ttest_indResult(statistic=96.62523722458897, pvalue=0.0)"
      ]
     },
     "execution_count": 32,
     "metadata": {},
     "output_type": "execute_result"
    }
   ],
   "source": [
    "sp.stats.ttest_ind(train_df.phone_id, train_df.churn)"
   ]
  },
  {
   "cell_type": "markdown",
   "metadata": {},
   "source": [
    "Does the internet_service_type_id have an effect on churn?"
   ]
  },
  {
   "cell_type": "code",
   "execution_count": 33,
   "metadata": {},
   "outputs": [
    {
     "data": {
      "text/plain": [
       "Ttest_indResult(statistic=132.78427973501704, pvalue=0.0)"
      ]
     },
     "execution_count": 33,
     "metadata": {},
     "output_type": "execute_result"
    }
   ],
   "source": [
    "sp.stats.ttest_ind(train_df.internet_service_type_id, train_df.churn)"
   ]
  },
  {
   "cell_type": "markdown",
   "metadata": {},
   "source": [
    "Does the online_security_backup have an effect on churn?"
   ]
  },
  {
   "cell_type": "code",
   "execution_count": 34,
   "metadata": {},
   "outputs": [
    {
     "data": {
      "text/plain": [
       "Ttest_indResult(statistic=66.03078247291516, pvalue=0.0)"
      ]
     },
     "execution_count": 34,
     "metadata": {},
     "output_type": "execute_result"
    }
   ],
   "source": [
    "sp.stats.ttest_ind(train_df.online_security_backup, train_df.churn)"
   ]
  },
  {
   "cell_type": "markdown",
   "metadata": {},
   "source": [
    "Does the contract_type_id have an effect on churn?"
   ]
  },
  {
   "cell_type": "code",
   "execution_count": 35,
   "metadata": {},
   "outputs": [
    {
     "data": {
      "text/plain": [
       "Ttest_indResult(statistic=106.0519180040615, pvalue=0.0)"
      ]
     },
     "execution_count": 35,
     "metadata": {},
     "output_type": "execute_result"
    }
   ],
   "source": [
    "sp.stats.ttest_ind(train_df.contract_type_id, train_df.churn)"
   ]
  },
  {
   "cell_type": "markdown",
   "metadata": {},
   "source": [
    "6. How much of ```monthly_charges``` can be explained by ```internet_service_type```? (hint: correlation test). State your hypotheses and your conclusion clearly."
   ]
  },
  {
   "cell_type": "code",
   "execution_count": 36,
   "metadata": {},
   "outputs": [
    {
     "data": {
      "text/plain": [
       "-0.32367274140588126"
      ]
     },
     "execution_count": 36,
     "metadata": {},
     "output_type": "execute_result"
    }
   ],
   "source": [
    "np.corrcoef(train_df.monthly_charges, train_df.internet_service_type_id)[0, 1]"
   ]
  },
  {
   "cell_type": "markdown",
   "metadata": {},
   "source": [
    "7. How much of ```monthly_charges``` can be explained by ```internet_service_type``` + phone service type (0, 1, or multiple lines). State your hypotheses and your conclusion clearly."
   ]
  },
  {
   "cell_type": "markdown",
   "metadata": {},
   "source": [
    "**Null Hypotheses:** Monthly charges can not be explained with the features internet service type and phone service type"
   ]
  },
  {
   "cell_type": "markdown",
   "metadata": {},
   "source": [
    "Draw a nested barplot to show churn for internet_service_type_id and phone_id"
   ]
  },
  {
   "cell_type": "code",
   "execution_count": 37,
   "metadata": {},
   "outputs": [
    {
     "data": {
      "image/png": "[encoded data removed]",
      "text/plain": [
       "<Figure size 485.375x432 with 1 Axes>"
      ]
     },
     "metadata": {
      "needs_background": "light"
     },
     "output_type": "display_data"
    }
   ],
   "source": [
    "g = sns.catplot(x=\"internet_service_type_id\", y=\"monthly_charges\", hue=\"phone_id\", data=train_df,\n",
    "                height=6, kind=\"bar\", palette=\"muted\")\n",
    "g.despine(left=True)\n",
    "g.set_ylabels(\"Higher Monthly Charges Probability\")\n",
    "plt.grid(b = True , which = \"major\")"
   ]
  },
  {
   "cell_type": "markdown",
   "metadata": {},
   "source": [
    "**Conlusion:** The graph above shows the probability of higher monthly charges in each case of internet service type (No Internet, DSL, Fiber) and number of phone lines (0, 1, 1+)"
   ]
  },
  {
   "cell_type": "markdown",
   "metadata": {},
   "source": [
    "8. Create visualizations exploring the interactions of variables (independent with independent and independent with dependent). The goal is to identify features that are related to churn, identify any data integrity issues, understand 'how the data works'. For example, we may find that all who have online services also have device protection. In that case, we don't need both of those. (The visualizations done in your analysis for questions 1-5 count towards the requirements below)\n",
    "\n",
    "    - Each independent variable (except for customer_id) should be visualized in at least two plots, and at least 1 of those compares the independent variable with the dependent variable.\n",
    "\n",
    "    - For each plot where x and y are independent variables, add a third dimension (where possible), of churn represented by color.\n",
    "\n",
    "    - Use subplots when plotting the same type of chart but with different variables.\n",
    "\n",
    "    - Adjust the axes as necessary to extract information from the visualizations (adjusting the x & y limits, setting the scale where needed, etc.)\n",
    "\n",
    "    - Add annotations to at least 5 plots with a key takeaway from that plot.\n",
    "\n",
    "    - Use plots from matplotlib, pandas and seaborn.\n",
    "\n",
    "    - Use each of the following:\n",
    "\n",
    "        - sns.heatmap\n",
    "        - pd.crosstab (along with sns.heatmap)\n",
    "        - pd.scatter_matrix\n",
    "        - sns.barplot\n",
    "        - sns.swarmplot\n",
    "        - sns.pairplot\n",
    "        - sns.jointplot\n",
    "        - sns.relplot or plt.scatter\n",
    "        - sns.distplot or plt.hist\n",
    "        - sns.boxplot\n",
    "        - plt.plot\n",
    "\n",
    "    - Use at least one more type of plot that is not included in the list above."
   ]
  },
  {
   "cell_type": "code",
   "execution_count": 38,
   "metadata": {},
   "outputs": [
    {
     "data": {
      "image/png": "[encoded data removed]",
      "text/plain": [
       "<Figure size 1440x432 with 3 Axes>"
      ]
     },
     "metadata": {
      "needs_background": "light"
     },
     "output_type": "display_data"
    }
   ],
   "source": [
    "features = ['household_type_id', 'online_security_backup', 'has_paperless_billing']\n",
    "\n",
    "_, ax = plt.subplots(nrows=1, ncols=3, figsize=(20,6))\n",
    "\n",
    "churn_rate = train_df.churn.mean()\n",
    "\n",
    "for i, feature in enumerate(features):\n",
    "    sns.barplot(feature, 'churn', data=train_df, ax=ax[i], alpha=.5)\n",
    "    ax[i].set_ylabel('Churn Rate')\n",
    "    ax[i].axhline(churn_rate, ls='--', color='grey')"
   ]
  },
  {
   "cell_type": "code",
   "execution_count": 39,
   "metadata": {},
   "outputs": [
    {
     "data": {
      "image/png": "[encoded data removed]",
      "text/plain": [
       "<Figure size 1440x432 with 3 Axes>"
      ]
     },
     "metadata": {
      "needs_background": "light"
     },
     "output_type": "display_data"
    }
   ],
   "source": [
    "features = ['has_device_protection', 'has_tech_support', 'has_streaming_services']\n",
    "\n",
    "_, ax = plt.subplots(nrows=1, ncols=3, figsize=(20,6))\n",
    "\n",
    "churn_rate = train_df.churn.mean()\n",
    "\n",
    "for i, feature in enumerate(features):\n",
    "    sns.barplot(feature, 'churn', data=train_df, ax=ax[i], alpha=.5)\n",
    "    ax[i].set_ylabel('Churn Rate')\n",
    "    ax[i].axhline(churn_rate, ls='--', color='grey')"
   ]
  },
  {
   "cell_type": "code",
   "execution_count": null,
   "metadata": {},
   "outputs": [],
   "source": [
    "plt.figure(figsize=(16,15))\n",
    "\n",
    "sns.heatmap(train_df.corr(), annot=True, cmap=\"YlGnBu\")"
   ]
  },
  {
   "cell_type": "code",
   "execution_count": null,
   "metadata": {},
   "outputs": [],
   "source": [
    "sns.pairplot(train_df)"
   ]
  },
  {
   "cell_type": "markdown",
   "metadata": {},
   "source": [
    "9. What can you say about each variable's relationship to churn, based on your initial exploration? If there appears to be some sort of interaction or correlation, assume there is no causal relationship and brainstorm (and document) ideas on reasons there could be correlation."
   ]
  },
  {
   "cell_type": "markdown",
   "metadata": {},
   "source": [
    "**Realtionship to churn**\n",
    "1. 7 out of 25 customers with a multiple line phone plan churn\n",
    "2. 2 out of 5 customers with the fiber optic internet option churn\n",
    "3. 12 out of 25 customer without online securty or online backup churn\n",
    "4. 2 out of 5 senior citizens churn\n",
    "5. 17 out of 50 single member households churn\n",
    "6. 17 out of 50 customers with paperless billing churn\n",
    "7. 8 out of 25 customers that do not have device protection churn\n",
    "8. 1 out of 3 customers without a technical support option churn\n",
    "9. 1 out of 4 customers with a streaming service churn"
   ]
  },
  {
   "cell_type": "markdown",
   "metadata": {},
   "source": [
    "10. Summarize your conclusions, provide clear answers to the specific questions, and summarize any takeaways/action plan from the work above."
   ]
  },
  {
   "cell_type": "code",
   "execution_count": null,
   "metadata": {},
   "outputs": [],
   "source": []
  },
  {
   "cell_type": "markdown",
   "metadata": {},
   "source": [
    "## Modeling"
   ]
  },
  {
   "cell_type": "markdown",
   "metadata": {},
   "source": [
    "1. Feature Selection: Are there any variables that seem to provide limited to no additional information? If so, remove them."
   ]
  },
  {
   "cell_type": "markdown",
   "metadata": {},
   "source": [
    "2. Train (fit, transform, evaluate) multiple different models, varying the model type and your meta-parameters."
   ]
  },
  {
   "cell_type": "code",
   "execution_count": 61,
   "metadata": {},
   "outputs": [
    {
     "data": {
      "text/plain": [
       "Index(['gender', 'senior_citizen', 'tenure', 'internet_service_type_id',\n",
       "       'contract_type_id', 'payment_type_id', 'monthly_charges',\n",
       "       'total_charges', 'churn', 'tenure_year', 'phone_id',\n",
       "       'household_type_id', 'online_security_backup', 'has_paperless_billing',\n",
       "       'has_device_protection', 'has_tech_support', 'has_streaming_services',\n",
       "       'less_than_one', 'more_than_one'],\n",
       "      dtype='object')"
      ]
     },
     "execution_count": 61,
     "metadata": {},
     "output_type": "execute_result"
    }
   ],
   "source": [
    "train_df.columns"
   ]
  },
  {
   "cell_type": "markdown",
   "metadata": {},
   "source": [
    "### Logistic Regression Model"
   ]
  },
  {
   "cell_type": "code",
   "execution_count": 83,
   "metadata": {},
   "outputs": [],
   "source": [
    "logit = LogisticRegression(dual=True, random_state=123, fit_intercept=True)"
   ]
  },
  {
   "cell_type": "code",
   "execution_count": 84,
   "metadata": {},
   "outputs": [
    {
     "name": "stderr",
     "output_type": "stream",
     "text": [
      "/usr/local/anaconda3/lib/python3.7/site-packages/sklearn/svm/base.py:922: ConvergenceWarning: Liblinear failed to converge, increase the number of iterations.\n",
      "  \"the number of iterations.\", ConvergenceWarning)\n"
     ]
    },
    {
     "data": {
      "text/plain": [
       "LogisticRegression(C=1.0, class_weight=None, dual=True, fit_intercept=True,\n",
       "          intercept_scaling=1, max_iter=100, multi_class='warn',\n",
       "          n_jobs=None, penalty='l2', random_state=123, solver='warn',\n",
       "          tol=0.0001, verbose=0, warm_start=False)"
      ]
     },
     "execution_count": 84,
     "metadata": {},
     "output_type": "execute_result"
    }
   ],
   "source": [
    "logit.fit(train_df[['more_than_one', 'tenure', 'internet_service_type_id', \n",
    "                    'monthly_charges', 'phone_id', 'online_security_backup', \n",
    "                    'household_type_id', 'less_than_one']], train_df.churn)"
   ]
  },
  {
   "cell_type": "code",
   "execution_count": 85,
   "metadata": {},
   "outputs": [
    {
     "data": {
      "text/plain": [
       "array([0, 0, 0, ..., 0, 0, 1])"
      ]
     },
     "execution_count": 85,
     "metadata": {},
     "output_type": "execute_result"
    }
   ],
   "source": [
    "logit.predict(train_df[['more_than_one', 'tenure', 'internet_service_type_id', \n",
    "                    'monthly_charges', 'phone_id', 'online_security_backup', \n",
    "                    'household_type_id', 'less_than_one']])"
   ]
  },
  {
   "cell_type": "code",
   "execution_count": 86,
   "metadata": {},
   "outputs": [],
   "source": [
    "train_df['prediction'] = logit.predict(train_df[['more_than_one', 'tenure', 'internet_service_type_id', \n",
    "                    'monthly_charges', 'phone_id', 'online_security_backup', \n",
    "                    'household_type_id', 'less_than_one']])"
   ]
  },
  {
   "cell_type": "code",
   "execution_count": 87,
   "metadata": {},
   "outputs": [
    {
     "data": {
      "text/plain": [
       "0.7803245436105477"
      ]
     },
     "execution_count": 87,
     "metadata": {},
     "output_type": "execute_result"
    }
   ],
   "source": [
    "(train_df.churn == train_df.prediction).sum() / train_df.shape[0]"
   ]
  },
  {
   "cell_type": "code",
   "execution_count": 88,
   "metadata": {},
   "outputs": [
    {
     "data": {
      "text/plain": [
       "array([[3102,  520],\n",
       "       [ 563,  745]])"
      ]
     },
     "execution_count": 88,
     "metadata": {},
     "output_type": "execute_result"
    }
   ],
   "source": [
    "confusion_matrix(train_df.churn, train_df.prediction)"
   ]
  },
  {
   "cell_type": "code",
   "execution_count": 89,
   "metadata": {},
   "outputs": [
    {
     "data": {
      "text/html": [
       "<div>\n",
       "<style scoped>\n",
       "    .dataframe tbody tr th:only-of-type {\n",
       "        vertical-align: middle;\n",
       "    }\n",
       "\n",
       "    .dataframe tbody tr th {\n",
       "        vertical-align: top;\n",
       "    }\n",
       "\n",
       "    .dataframe thead th {\n",
       "        text-align: right;\n",
       "    }\n",
       "</style>\n",
       "<table border=\"1\" class=\"dataframe\">\n",
       "  <thead>\n",
       "    <tr style=\"text-align: right;\">\n",
       "      <th></th>\n",
       "      <th>Pred -</th>\n",
       "      <th>Pred +</th>\n",
       "    </tr>\n",
       "  </thead>\n",
       "  <tbody>\n",
       "    <tr>\n",
       "      <th>Actual -</th>\n",
       "      <td>3102</td>\n",
       "      <td>520</td>\n",
       "    </tr>\n",
       "    <tr>\n",
       "      <th>Actual +</th>\n",
       "      <td>563</td>\n",
       "      <td>745</td>\n",
       "    </tr>\n",
       "  </tbody>\n",
       "</table>\n",
       "</div>"
      ],
      "text/plain": [
       "          Pred -  Pred +\n",
       "Actual -    3102     520\n",
       "Actual +     563     745"
      ]
     },
     "execution_count": 89,
     "metadata": {},
     "output_type": "execute_result"
    }
   ],
   "source": [
    "cm = pd.DataFrame(confusion_matrix(train_df.churn, train_df.prediction),\n",
    "             columns=['Pred -', 'Pred +'], index=['Actual -', 'Actual +'])\n",
    "\n",
    "cm"
   ]
  },
  {
   "cell_type": "code",
   "execution_count": 90,
   "metadata": {},
   "outputs": [
    {
     "name": "stdout",
     "output_type": "stream",
     "text": [
      "              precision    recall  f1-score   support\n",
      "\n",
      "           0       0.85      0.86      0.85      3622\n",
      "           1       0.59      0.57      0.58      1308\n",
      "\n",
      "   micro avg       0.78      0.78      0.78      4930\n",
      "   macro avg       0.72      0.71      0.72      4930\n",
      "weighted avg       0.78      0.78      0.78      4930\n",
      "\n"
     ]
    }
   ],
   "source": [
    "print(classification_report(train_df.churn, train_df.prediction))"
   ]
  },
  {
   "cell_type": "code",
   "execution_count": 91,
   "metadata": {},
   "outputs": [
    {
     "data": {
      "text/plain": [
       "0    3622\n",
       "1    1308\n",
       "Name: churn, dtype: int64"
      ]
     },
     "execution_count": 91,
     "metadata": {},
     "output_type": "execute_result"
    }
   ],
   "source": [
    "train_df.churn.value_counts()"
   ]
  },
  {
   "cell_type": "code",
   "execution_count": 92,
   "metadata": {},
   "outputs": [
    {
     "name": "stdout",
     "output_type": "stream",
     "text": [
      "Accuracy of Logistic Regression classifier on training set: 0.78\n"
     ]
    }
   ],
   "source": [
    "print('Accuracy of Logistic Regression classifier on training set: {:.2f}'\n",
    "     .format(logit.score(train_df[['more_than_one', 'tenure', 'internet_service_type_id', \n",
    "                    'monthly_charges', 'phone_id', 'online_security_backup', \n",
    "                    'household_type_id', 'less_than_one']], train_df.churn)))"
   ]
  },
  {
   "cell_type": "markdown",
   "metadata": {},
   "source": [
    "### Random Forest Model"
   ]
  },
  {
   "cell_type": "code",
   "execution_count": 95,
   "metadata": {},
   "outputs": [],
   "source": [
    "rf = RandomForestClassifier(bootstrap=True, \n",
    "                            class_weight=None, \n",
    "                            criterion='gini',\n",
    "                            min_samples_leaf=3,\n",
    "                            n_estimators=100,\n",
    "                            max_depth=5, \n",
    "                            random_state=123)"
   ]
  },
  {
   "cell_type": "code",
   "execution_count": 96,
   "metadata": {},
   "outputs": [
    {
     "data": {
      "text/plain": [
       "RandomForestClassifier(bootstrap=True, class_weight=None, criterion='gini',\n",
       "            max_depth=5, max_features='auto', max_leaf_nodes=None,\n",
       "            min_impurity_decrease=0.0, min_impurity_split=None,\n",
       "            min_samples_leaf=3, min_samples_split=2,\n",
       "            min_weight_fraction_leaf=0.0, n_estimators=100, n_jobs=None,\n",
       "            oob_score=False, random_state=123, verbose=0, warm_start=False)"
      ]
     },
     "execution_count": 96,
     "metadata": {},
     "output_type": "execute_result"
    }
   ],
   "source": [
    "rf.fit(train_df.drop(columns=['gender','churn','prediction','tenure']), train_df.churn)"
   ]
  },
  {
   "cell_type": "code",
   "execution_count": 97,
   "metadata": {},
   "outputs": [
    {
     "data": {
      "text/plain": [
       "contract_type_id            0.224473\n",
       "online_security_backup      0.172304\n",
       "tenure_year                 0.159784\n",
       "monthly_charges             0.100314\n",
       "internet_service_type_id    0.079652\n",
       "total_charges               0.064733\n",
       "more_than_one               0.055305\n",
       "payment_type_id             0.050817\n",
       "less_than_one               0.048263\n",
       "has_tech_support            0.013085\n",
       "has_paperless_billing       0.011444\n",
       "phone_id                    0.007214\n",
       "senior_citizen              0.006750\n",
       "household_type_id           0.004391\n",
       "has_device_protection       0.001471\n",
       "has_streaming_services      0.000000\n",
       "dtype: float64"
      ]
     },
     "execution_count": 97,
     "metadata": {},
     "output_type": "execute_result"
    }
   ],
   "source": [
    "important_features = pd.Series(data=rf.feature_importances_,index=train_df.drop(columns=['gender', 'churn','prediction','tenure']).columns)\n",
    "important_features.sort_values(ascending=False,inplace=True)\n",
    "important_features"
   ]
  },
  {
   "cell_type": "code",
   "execution_count": 98,
   "metadata": {},
   "outputs": [],
   "source": [
    "y_pred = rf.predict(train_df.drop(columns=['gender','churn','prediction','tenure']))\n",
    "y_pred_proba = rf.predict_proba(train_df.drop(columns=['gender','churn','prediction','tenure']))"
   ]
  },
  {
   "cell_type": "code",
   "execution_count": 99,
   "metadata": {},
   "outputs": [
    {
     "data": {
      "text/plain": [
       "array([[0.9573605 , 0.0426395 ],\n",
       "       [0.82590421, 0.17409579],\n",
       "       [0.94317663, 0.05682337],\n",
       "       [0.98553664, 0.01446336],\n",
       "       [0.80564519, 0.19435481],\n",
       "       [0.38077601, 0.61922399],\n",
       "       [0.52369682, 0.47630318],\n",
       "       [0.88829405, 0.11170595],\n",
       "       [0.8665922 , 0.1334078 ],\n",
       "       [0.77211256, 0.22788744]])"
      ]
     },
     "execution_count": 99,
     "metadata": {},
     "output_type": "execute_result"
    }
   ],
   "source": [
    "y_pred_proba[0:10]"
   ]
  },
  {
   "cell_type": "code",
   "execution_count": 100,
   "metadata": {},
   "outputs": [
    {
     "name": "stdout",
     "output_type": "stream",
     "text": [
      "[[3373  249]\n",
      " [ 714  594]]\n"
     ]
    }
   ],
   "source": [
    "print(confusion_matrix(train_df.churn, y_pred))"
   ]
  },
  {
   "cell_type": "code",
   "execution_count": 101,
   "metadata": {},
   "outputs": [
    {
     "name": "stdout",
     "output_type": "stream",
     "text": [
      "              precision    recall  f1-score   support\n",
      "\n",
      "           0       0.83      0.93      0.88      3622\n",
      "           1       0.70      0.45      0.55      1308\n",
      "\n",
      "   micro avg       0.80      0.80      0.80      4930\n",
      "   macro avg       0.76      0.69      0.71      4930\n",
      "weighted avg       0.79      0.80      0.79      4930\n",
      "\n"
     ]
    }
   ],
   "source": [
    "print(classification_report(train_df.churn, y_pred))"
   ]
  },
  {
   "cell_type": "code",
   "execution_count": 102,
   "metadata": {},
   "outputs": [
    {
     "name": "stdout",
     "output_type": "stream",
     "text": [
      "Accuracy of random forest classifier on training set: 0.80\n"
     ]
    }
   ],
   "source": [
    "print('Accuracy of random forest classifier on training set: {:.2f}'\n",
    "     .format(rf.score(train_df.drop(columns=['gender','churn','prediction','tenure']), train_df.churn)))"
   ]
  },
  {
   "cell_type": "markdown",
   "metadata": {},
   "source": [
    "3. Compare evaluation metrics across all the models, and select the best performing model."
   ]
  },
  {
   "cell_type": "code",
   "execution_count": null,
   "metadata": {},
   "outputs": [],
   "source": []
  },
  {
   "cell_type": "markdown",
   "metadata": {},
   "source": [
    "4. Test the final model (transform, evaluate) on your out-of-sample data (the testing data set). Summarize the performance. Interpret your results."
   ]
  },
  {
   "cell_type": "code",
   "execution_count": 94,
   "metadata": {},
   "outputs": [
    {
     "name": "stdout",
     "output_type": "stream",
     "text": [
      "Accuracy of Logistic Regression classifier on test set: 0.78\n"
     ]
    }
   ],
   "source": [
    "print('Accuracy of Logistic Regression classifier on test set: {:.2f}'\n",
    "     .format(logit.score(test_df[['more_than_one', 'tenure', 'internet_service_type_id', \n",
    "                    'monthly_charges', 'phone_id', 'online_security_backup', \n",
    "                    'household_type_id', 'less_than_one']], test_df.churn)))"
   ]
  },
  {
   "cell_type": "code",
   "execution_count": null,
   "metadata": {},
   "outputs": [],
   "source": []
  }
 ],
 "metadata": {
  "kernelspec": {
   "display_name": "Python 3",
   "language": "python",
   "name": "python3"
  },
  "language_info": {
   "codemirror_mode": {
    "name": "ipython",
    "version": 3
   },
   "file_extension": ".py",
   "mimetype": "text/x-python",
   "name": "python",
   "nbconvert_exporter": "python",
   "pygments_lexer": "ipython3",
   "version": "3.7.1"
  }
 },
 "nbformat": 4,
 "nbformat_minor": 2
}
