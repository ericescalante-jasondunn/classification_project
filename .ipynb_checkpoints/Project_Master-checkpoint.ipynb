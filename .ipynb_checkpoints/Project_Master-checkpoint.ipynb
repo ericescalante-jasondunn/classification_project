{
 "cells": [
  {
   "cell_type": "markdown",
   "metadata": {},
   "source": [
    "# Classification Project\n",
    "\n",
    "1. [Goals](#Goals)\n",
    "1. [Questions](#Questions)\n",
    "1. [Specification](#Specification)\n",
    "1. [Deliverables](#Deliverables)\n",
    "1. [Prepare the Environment](#Prepare-the-Environment)\n",
    "1. [Acquistion](#Acquisition)\n",
    "1. [Data Prep](#Data-Prep)\n",
    "1. [Data Exploration](#Data-Exploration)\n",
    "1. [Modeling](#Modeling)"
   ]
  },
  {
   "cell_type": "markdown",
   "metadata": {},
   "source": [
    "### Goals\n",
    "\n",
    "- Why are our customers churning?"
   ]
  },
  {
   "cell_type": "markdown",
   "metadata": {},
   "source": [
    "### Questions\n",
    "\n",
    "- Could the month in which they signed up influence churn? i.e. if a cohort is identified by tenure, is there a cohort or cohorts who have a higher rate of churn than other cohorts? (Plot the rate of churn on a line chart where x is the tenure and y is the rate of churn (customers churned/total customers))\n",
    "\n",
    "- Are there features that indicate a higher propensity to churn? like type of \n",
    "internet service, type of phone service, online security and backup, senior citizens, paying more than x% of customers with the same services, etc.?\n",
    "\n",
    "- Is there a price threshold for specific services where the likelihood of churn increases once price for those services goes past that point? If so, what is that point for what service(s)?\n",
    "\n",
    "- If we looked at churn rate for month-to-month customers after the 12th month and that of 1-year contract customers after the 12th month, are those rates comparable?"
   ]
  },
  {
   "cell_type": "markdown",
   "metadata": {},
   "source": [
    "### Deliverables\n",
    "\n",
    "1. I will also need a report (ipynb) answering the question, \"Why are our customers churning?\" I want to see the analysis you did to answer my questions and lead to your findings. Please clearly call out the questions and answers you are analyzing. E.g. If you find that month-to-month customers churn more, I won't be surprised, but I am not getting rid of that plan. The fact that they churn is not because they can, it's because they can and they are motivated to do so. I want some insight into why they are motivated to do so. I realize you will not be able to do a full causal experiment, but I hope to see some solid evidence of your conclusions.\n",
    "\n",
    "2. I will need you to deliver to me a csv with the customer_id, probability of churn, and the prediction of churn (1=churn, 0=not_churn). I would also like a single goolgle slide that illustrates how your model works, including the features being used, so that I can deliver this to the SLT when they come with questions about how these values were derived. Please make sure you include how likely your model is to give a high probability of churn when churn doesn't occur, to give a low probability of churn when churn occurs, and to accurately predict churn.\n",
    "\n",
    "3. Finally, our development team will need a .py file that will take in a new dataset, (in the exact same form of the one you acquired from telco_churn.customers) and perform all the transformations necessary to run the model you have developed on this new dataset to provide probabilities and predictions."
   ]
  },
  {
   "cell_type": "markdown",
   "metadata": {},
   "source": [
    "### Specification\n",
    "\n",
    "Detailed instructions for each section are below.\n",
    "\n",
    "In general, make sure you document your work. You don't need to explain what every line of code is doing, but you should explain what and why you are doing. For example, if you drop a feature from the dataset, you should explain why you decided to do so, or why that is a reasonable thing to do. If you transform the data in a column, you should explain why you are making that transformation.\n",
    "\n",
    "In addition, you should not present numers in isolation. If your code outputs a number, be sure you give some context to the number.\n",
    "\n",
    "Specific Deliverables:\n",
    "\n",
    "- a jupyter notebook where your work takes place\n",
    "- a csv file that predicts churn for each customer\n",
    "- a python script that prepares data such that it can be fed into your model\n",
    "- a google slide summarizing your model\n",
    "- a README.md file that contains a link to your google slides presentation, and instructions for how to use your python script(s)"
   ]
  },
  {
   "cell_type": "markdown",
   "metadata": {},
   "source": [
    "### Prepare the Environment"
   ]
  },
  {
   "cell_type": "code",
   "execution_count": 132,
   "metadata": {},
   "outputs": [],
   "source": [
    "# ignore warnings\n",
    "import warnings\n",
    "warnings.filterwarnings(\"ignore\")\n",
    "\n",
    "import pandas as pd\n",
    "import numpy as np\n",
    "\n",
    "from pydataset import data\n",
    "\n",
    "# Logistc Regression\n",
    "from sklearn.linear_model import LogisticRegression\n",
    "\n",
    "# Decision Tree\n",
    "from sklearn.tree import DecisionTreeClassifier\n",
    "from sklearn import tree\n",
    "\n",
    "# KNN\n",
    "from sklearn.neighbors import KNeighborsClassifier\n",
    "\n",
    "# Random Forest\n",
    "from sklearn.ensemble import RandomForestClassifier\n",
    "\n",
    "# All modeling\n",
    "from sklearn.model_selection import train_test_split\n",
    "from sklearn.metrics import classification_report\n",
    "from sklearn.metrics import confusion_matrix\n",
    "\n",
    "from sklearn.preprocessing import MinMaxScaler\n",
    "\n",
    "import graphviz\n",
    "\n",
    "from graphviz import Graph\n",
    "\n",
    "from sklearn.preprocessing import LabelEncoder\n",
    "\n",
    "import matplotlib.pyplot as plt\n",
    "%matplotlib inline\n",
    "import seaborn as sns\n",
    "\n",
    "import matplotlib.pyplot as plt\n",
    "\n",
    "from env import host, user, password"
   ]
  },
  {
   "cell_type": "markdown",
   "metadata": {},
   "source": [
    "### Acquisition"
   ]
  },
  {
   "cell_type": "markdown",
   "metadata": {},
   "source": [
    "1. Get the data from the ```customers``` table from the ```telco_churn``` database on the codeup data science database server.\n",
    "\n",
    "    - You may wish to join some tables as part of your query.\n",
    "    - This data should end up in a pandas data frame."
   ]
  },
  {
   "cell_type": "code",
   "execution_count": 133,
   "metadata": {},
   "outputs": [],
   "source": [
    "def get_db_url(hostname: str, username: str, password: str, db_name: str) -> str:\n",
    "    return f\"mysql+pymysql://{username}:{password}@{hostname}/{db_name}\"\n",
    "\n",
    "\n",
    "def get_sql_conn(hostname: str, username: str, password: str, db_name: str):\n",
    "    return create_engine(get_db_url(host, user, password, db_name))\n",
    "\n",
    "\n",
    "def df_from_sql(query: str, url: str) -> pd.DataFrame:\n",
    "    return pd.read_sql(query, url)\n",
    "\n",
    "\n",
    "def get_telco_data() -> pd.DataFrame:\n",
    "    db = \"telco_churn\"\n",
    "    query = (\"SELECT * \"\n",
    "             f\"FROM customers;\")\n",
    "    url = get_db_url(host, user, password, db)\n",
    "    return df_from_sql(query, url)"
   ]
  },
  {
   "cell_type": "code",
   "execution_count": 134,
   "metadata": {},
   "outputs": [],
   "source": [
    "df = get_telco_data()"
   ]
  },
  {
   "cell_type": "code",
   "execution_count": 135,
   "metadata": {},
   "outputs": [
    {
     "data": {
      "text/html": [
       "<div>\n",
       "<style scoped>\n",
       "    .dataframe tbody tr th:only-of-type {\n",
       "        vertical-align: middle;\n",
       "    }\n",
       "\n",
       "    .dataframe tbody tr th {\n",
       "        vertical-align: top;\n",
       "    }\n",
       "\n",
       "    .dataframe thead th {\n",
       "        text-align: right;\n",
       "    }\n",
       "</style>\n",
       "<table border=\"1\" class=\"dataframe\">\n",
       "  <thead>\n",
       "    <tr style=\"text-align: right;\">\n",
       "      <th></th>\n",
       "      <th>customer_id</th>\n",
       "      <th>gender</th>\n",
       "      <th>senior_citizen</th>\n",
       "      <th>partner</th>\n",
       "      <th>dependents</th>\n",
       "      <th>tenure</th>\n",
       "      <th>phone_service</th>\n",
       "      <th>multiple_lines</th>\n",
       "      <th>internet_service_type_id</th>\n",
       "      <th>online_security</th>\n",
       "      <th>...</th>\n",
       "      <th>device_protection</th>\n",
       "      <th>tech_support</th>\n",
       "      <th>streaming_tv</th>\n",
       "      <th>streaming_movies</th>\n",
       "      <th>contract_type_id</th>\n",
       "      <th>paperless_billing</th>\n",
       "      <th>payment_type_id</th>\n",
       "      <th>monthly_charges</th>\n",
       "      <th>total_charges</th>\n",
       "      <th>churn</th>\n",
       "    </tr>\n",
       "  </thead>\n",
       "  <tbody>\n",
       "    <tr>\n",
       "      <th>0</th>\n",
       "      <td>0002-ORFBO</td>\n",
       "      <td>Female</td>\n",
       "      <td>0</td>\n",
       "      <td>Yes</td>\n",
       "      <td>Yes</td>\n",
       "      <td>9</td>\n",
       "      <td>Yes</td>\n",
       "      <td>No</td>\n",
       "      <td>1</td>\n",
       "      <td>No</td>\n",
       "      <td>...</td>\n",
       "      <td>No</td>\n",
       "      <td>Yes</td>\n",
       "      <td>Yes</td>\n",
       "      <td>No</td>\n",
       "      <td>2</td>\n",
       "      <td>Yes</td>\n",
       "      <td>2</td>\n",
       "      <td>65.6</td>\n",
       "      <td>593.3</td>\n",
       "      <td>No</td>\n",
       "    </tr>\n",
       "    <tr>\n",
       "      <th>1</th>\n",
       "      <td>0003-MKNFE</td>\n",
       "      <td>Male</td>\n",
       "      <td>0</td>\n",
       "      <td>No</td>\n",
       "      <td>No</td>\n",
       "      <td>9</td>\n",
       "      <td>Yes</td>\n",
       "      <td>Yes</td>\n",
       "      <td>1</td>\n",
       "      <td>No</td>\n",
       "      <td>...</td>\n",
       "      <td>No</td>\n",
       "      <td>No</td>\n",
       "      <td>No</td>\n",
       "      <td>Yes</td>\n",
       "      <td>1</td>\n",
       "      <td>No</td>\n",
       "      <td>2</td>\n",
       "      <td>59.9</td>\n",
       "      <td>542.4</td>\n",
       "      <td>No</td>\n",
       "    </tr>\n",
       "    <tr>\n",
       "      <th>2</th>\n",
       "      <td>0004-TLHLJ</td>\n",
       "      <td>Male</td>\n",
       "      <td>0</td>\n",
       "      <td>No</td>\n",
       "      <td>No</td>\n",
       "      <td>4</td>\n",
       "      <td>Yes</td>\n",
       "      <td>No</td>\n",
       "      <td>2</td>\n",
       "      <td>No</td>\n",
       "      <td>...</td>\n",
       "      <td>Yes</td>\n",
       "      <td>No</td>\n",
       "      <td>No</td>\n",
       "      <td>No</td>\n",
       "      <td>1</td>\n",
       "      <td>Yes</td>\n",
       "      <td>1</td>\n",
       "      <td>73.9</td>\n",
       "      <td>280.85</td>\n",
       "      <td>Yes</td>\n",
       "    </tr>\n",
       "    <tr>\n",
       "      <th>3</th>\n",
       "      <td>0011-IGKFF</td>\n",
       "      <td>Male</td>\n",
       "      <td>1</td>\n",
       "      <td>Yes</td>\n",
       "      <td>No</td>\n",
       "      <td>13</td>\n",
       "      <td>Yes</td>\n",
       "      <td>No</td>\n",
       "      <td>2</td>\n",
       "      <td>No</td>\n",
       "      <td>...</td>\n",
       "      <td>Yes</td>\n",
       "      <td>No</td>\n",
       "      <td>Yes</td>\n",
       "      <td>Yes</td>\n",
       "      <td>1</td>\n",
       "      <td>Yes</td>\n",
       "      <td>1</td>\n",
       "      <td>98.0</td>\n",
       "      <td>1237.85</td>\n",
       "      <td>Yes</td>\n",
       "    </tr>\n",
       "    <tr>\n",
       "      <th>4</th>\n",
       "      <td>0013-EXCHZ</td>\n",
       "      <td>Female</td>\n",
       "      <td>1</td>\n",
       "      <td>Yes</td>\n",
       "      <td>No</td>\n",
       "      <td>3</td>\n",
       "      <td>Yes</td>\n",
       "      <td>No</td>\n",
       "      <td>2</td>\n",
       "      <td>No</td>\n",
       "      <td>...</td>\n",
       "      <td>No</td>\n",
       "      <td>Yes</td>\n",
       "      <td>Yes</td>\n",
       "      <td>No</td>\n",
       "      <td>1</td>\n",
       "      <td>Yes</td>\n",
       "      <td>2</td>\n",
       "      <td>83.9</td>\n",
       "      <td>267.4</td>\n",
       "      <td>Yes</td>\n",
       "    </tr>\n",
       "  </tbody>\n",
       "</table>\n",
       "<p>5 rows × 21 columns</p>\n",
       "</div>"
      ],
      "text/plain": [
       "  customer_id  gender  senior_citizen partner dependents  tenure  \\\n",
       "0  0002-ORFBO  Female               0     Yes        Yes       9   \n",
       "1  0003-MKNFE    Male               0      No         No       9   \n",
       "2  0004-TLHLJ    Male               0      No         No       4   \n",
       "3  0011-IGKFF    Male               1     Yes         No      13   \n",
       "4  0013-EXCHZ  Female               1     Yes         No       3   \n",
       "\n",
       "  phone_service multiple_lines  internet_service_type_id online_security  \\\n",
       "0           Yes             No                         1              No   \n",
       "1           Yes            Yes                         1              No   \n",
       "2           Yes             No                         2              No   \n",
       "3           Yes             No                         2              No   \n",
       "4           Yes             No                         2              No   \n",
       "\n",
       "   ...  device_protection tech_support streaming_tv streaming_movies  \\\n",
       "0  ...                 No          Yes          Yes               No   \n",
       "1  ...                 No           No           No              Yes   \n",
       "2  ...                Yes           No           No               No   \n",
       "3  ...                Yes           No          Yes              Yes   \n",
       "4  ...                 No          Yes          Yes               No   \n",
       "\n",
       "  contract_type_id  paperless_billing payment_type_id  monthly_charges  \\\n",
       "0                2                Yes               2             65.6   \n",
       "1                1                 No               2             59.9   \n",
       "2                1                Yes               1             73.9   \n",
       "3                1                Yes               1             98.0   \n",
       "4                1                Yes               2             83.9   \n",
       "\n",
       "   total_charges churn  \n",
       "0          593.3    No  \n",
       "1          542.4    No  \n",
       "2         280.85   Yes  \n",
       "3        1237.85   Yes  \n",
       "4          267.4   Yes  \n",
       "\n",
       "[5 rows x 21 columns]"
      ]
     },
     "execution_count": 135,
     "metadata": {},
     "output_type": "execute_result"
    }
   ],
   "source": [
    "df.head()"
   ]
  },
  {
   "cell_type": "markdown",
   "metadata": {},
   "source": [
    "2. Write a function, ```peekatdata(dataframe)```, that takes a dataframe as input and computes and returns the following:\n",
    "\n",
    "    - creates dataframe object ```head_df``` (df of the first 5 rows) and prints contents to screen\n",
    "\n",
    "    - creates dataframe object ```tail_df``` (df of the last 5 rows) and prints contents to screen\n",
    "\n",
    "    - creates tuple object ```shape_tuple``` (tuple of (nrows, ncols)) and prints tuple to screen\n",
    "\n",
    "    - creates dataframe object ```describe_df``` (summary statistics of all numeric variables) and prints contents to screen.\n",
    "\n",
    "    - prints to screen the information about a DataFrame including the index dtype and column dtypes, non-null values and memory usage."
   ]
  },
  {
   "cell_type": "code",
   "execution_count": 136,
   "metadata": {},
   "outputs": [],
   "source": [
    "def peekatdata(dataframe):\n",
    "    head_df = dataframe.head()\n",
    "    print(f\"HEAD\\n{head_df}\", end=\"\\n\\n\")\n",
    "\n",
    "    tail_df = dataframe.tail()\n",
    "    print(f\"TAIL\\n{tail_df}\", end=\"\\n\\n\")\n",
    "\n",
    "    shape_tuple = dataframe.shape\n",
    "    print(f\"SHAPE: {shape_tuple}\", end=\"\\n\\n\")\n",
    "\n",
    "    describe_df = dataframe.describe()\n",
    "    print(f\"DESCRIPTION\\n{describe_df}\", end=\"\\n\\n\")\n",
    "\n",
    "    print(f\"INFORMATION\")\n",
    "    dataframe.info()"
   ]
  },
  {
   "cell_type": "code",
   "execution_count": 137,
   "metadata": {},
   "outputs": [
    {
     "name": "stdout",
     "output_type": "stream",
     "text": [
      "HEAD\n",
      "  customer_id  gender  senior_citizen partner dependents  tenure  \\\n",
      "0  0002-ORFBO  Female               0     Yes        Yes       9   \n",
      "1  0003-MKNFE    Male               0      No         No       9   \n",
      "2  0004-TLHLJ    Male               0      No         No       4   \n",
      "3  0011-IGKFF    Male               1     Yes         No      13   \n",
      "4  0013-EXCHZ  Female               1     Yes         No       3   \n",
      "\n",
      "  phone_service multiple_lines  internet_service_type_id online_security  \\\n",
      "0           Yes             No                         1              No   \n",
      "1           Yes            Yes                         1              No   \n",
      "2           Yes             No                         2              No   \n",
      "3           Yes             No                         2              No   \n",
      "4           Yes             No                         2              No   \n",
      "\n",
      "   ...  device_protection tech_support streaming_tv streaming_movies  \\\n",
      "0  ...                 No          Yes          Yes               No   \n",
      "1  ...                 No           No           No              Yes   \n",
      "2  ...                Yes           No           No               No   \n",
      "3  ...                Yes           No          Yes              Yes   \n",
      "4  ...                 No          Yes          Yes               No   \n",
      "\n",
      "  contract_type_id  paperless_billing payment_type_id  monthly_charges  \\\n",
      "0                2                Yes               2             65.6   \n",
      "1                1                 No               2             59.9   \n",
      "2                1                Yes               1             73.9   \n",
      "3                1                Yes               1             98.0   \n",
      "4                1                Yes               2             83.9   \n",
      "\n",
      "   total_charges churn  \n",
      "0          593.3    No  \n",
      "1          542.4    No  \n",
      "2         280.85   Yes  \n",
      "3        1237.85   Yes  \n",
      "4          267.4   Yes  \n",
      "\n",
      "[5 rows x 21 columns]\n",
      "\n",
      "TAIL\n",
      "     customer_id  gender  senior_citizen partner dependents  tenure  \\\n",
      "7038  9987-LUTYD  Female               0      No         No      13   \n",
      "7039  9992-RRAMN    Male               0     Yes         No      22   \n",
      "7040  9992-UJOEL    Male               0      No         No       2   \n",
      "7041  9993-LHIEB    Male               0     Yes        Yes      67   \n",
      "7042  9995-HOTOH    Male               0     Yes        Yes      63   \n",
      "\n",
      "     phone_service    multiple_lines  internet_service_type_id  \\\n",
      "7038           Yes                No                         1   \n",
      "7039           Yes               Yes                         2   \n",
      "7040           Yes                No                         1   \n",
      "7041           Yes                No                         1   \n",
      "7042            No  No phone service                         1   \n",
      "\n",
      "     online_security  ...  device_protection tech_support streaming_tv  \\\n",
      "7038             Yes  ...                 No          Yes           No   \n",
      "7039              No  ...                 No           No           No   \n",
      "7040              No  ...                 No           No           No   \n",
      "7041             Yes  ...                Yes          Yes           No   \n",
      "7042             Yes  ...                Yes           No          Yes   \n",
      "\n",
      "     streaming_movies contract_type_id  paperless_billing payment_type_id  \\\n",
      "7038               No                2                 No               2   \n",
      "7039              Yes                1                Yes               1   \n",
      "7040               No                1                Yes               2   \n",
      "7041              Yes                3                 No               2   \n",
      "7042              Yes                3                 No               1   \n",
      "\n",
      "      monthly_charges  total_charges churn  \n",
      "7038            55.15          742.9    No  \n",
      "7039            85.10         1873.7   Yes  \n",
      "7040            50.30          92.75    No  \n",
      "7041            67.85        4627.65    No  \n",
      "7042            59.00         3707.6    No  \n",
      "\n",
      "[5 rows x 21 columns]\n",
      "\n",
      "SHAPE: (7043, 21)\n",
      "\n",
      "DESCRIPTION\n",
      "       senior_citizen       tenure  internet_service_type_id  \\\n",
      "count     7043.000000  7043.000000               7043.000000   \n",
      "mean         0.162147    32.371149                  1.872923   \n",
      "std          0.368612    24.559481                  0.737796   \n",
      "min          0.000000     0.000000                  1.000000   \n",
      "25%          0.000000     9.000000                  1.000000   \n",
      "50%          0.000000    29.000000                  2.000000   \n",
      "75%          0.000000    55.000000                  2.000000   \n",
      "max          1.000000    72.000000                  3.000000   \n",
      "\n",
      "       contract_type_id  payment_type_id  monthly_charges  \n",
      "count       7043.000000      7043.000000      7043.000000  \n",
      "mean           1.690473         2.315633        64.761692  \n",
      "std            0.833755         1.148907        30.090047  \n",
      "min            1.000000         1.000000        18.250000  \n",
      "25%            1.000000         1.000000        35.500000  \n",
      "50%            1.000000         2.000000        70.350000  \n",
      "75%            2.000000         3.000000        89.850000  \n",
      "max            3.000000         4.000000       118.750000  \n",
      "\n",
      "INFORMATION\n",
      "<class 'pandas.core.frame.DataFrame'>\n",
      "RangeIndex: 7043 entries, 0 to 7042\n",
      "Data columns (total 21 columns):\n",
      "customer_id                 7043 non-null object\n",
      "gender                      7043 non-null object\n",
      "senior_citizen              7043 non-null int64\n",
      "partner                     7043 non-null object\n",
      "dependents                  7043 non-null object\n",
      "tenure                      7043 non-null int64\n",
      "phone_service               7043 non-null object\n",
      "multiple_lines              7043 non-null object\n",
      "internet_service_type_id    7043 non-null int64\n",
      "online_security             7043 non-null object\n",
      "online_backup               7043 non-null object\n",
      "device_protection           7043 non-null object\n",
      "tech_support                7043 non-null object\n",
      "streaming_tv                7043 non-null object\n",
      "streaming_movies            7043 non-null object\n",
      "contract_type_id            7043 non-null int64\n",
      "paperless_billing           7043 non-null object\n",
      "payment_type_id             7043 non-null int64\n",
      "monthly_charges             7043 non-null float64\n",
      "total_charges               7043 non-null object\n",
      "churn                       7043 non-null object\n",
      "dtypes: float64(1), int64(5), object(15)\n",
      "memory usage: 1.1+ MB\n"
     ]
    }
   ],
   "source": [
    "peekatdata(df)"
   ]
  },
  {
   "cell_type": "markdown",
   "metadata": {},
   "source": [
    "### Data Prep"
   ]
  },
  {
   "cell_type": "markdown",
   "metadata": {},
   "source": [
    "1. Write a function, ```df_value_counts(dataframe)```, that takes a dataframe as input and computes and returns the values by frequency for each column. The function should decide whether or not to bin the data for the value counts."
   ]
  },
  {
   "cell_type": "code",
   "execution_count": 138,
   "metadata": {},
   "outputs": [],
   "source": [
    "def df_value_counts(dataframe):\n",
    "    for col in df.columns:\n",
    "        n = df[col].unique().shape[0]\n",
    "        col_bins = min(n, 10)\n",
    "        print(f\"{col}:\")\n",
    "        if df[col].dtype in ['int64', 'float64'] and n > 10:\n",
    "            print(df[col].value_counts(bins=col_bins, sort=False))\n",
    "        else:\n",
    "            print(df[col].value_counts())\n",
    "        print(\"\\n\")"
   ]
  },
  {
   "cell_type": "code",
   "execution_count": 139,
   "metadata": {},
   "outputs": [
    {
     "name": "stdout",
     "output_type": "stream",
     "text": [
      "customer_id:\n",
      "9578-FOMUK    1\n",
      "7789-HKSBS    1\n",
      "2959-MJHIC    1\n",
      "2378-VTKDH    1\n",
      "6243-OZGFH    1\n",
      "7115-IRDHS    1\n",
      "7638-QVMVY    1\n",
      "2410-CIYFZ    1\n",
      "3587-PMCOY    1\n",
      "6479-SZPLM    1\n",
      "0787-LHDYT    1\n",
      "4860-YZGZM    1\n",
      "5027-QPKTE    1\n",
      "1905-OEILC    1\n",
      "8591-NXRCV    1\n",
      "5730-RIITO    1\n",
      "5766-FTRTS    1\n",
      "0885-HMGPY    1\n",
      "8443-ZRDBZ    1\n",
      "0374-AACSZ    1\n",
      "0013-SMEOE    1\n",
      "7442-YGZFK    1\n",
      "0533-BNWKF    1\n",
      "0927-CNGRH    1\n",
      "8822-KNBHV    1\n",
      "2507-QZPQS    1\n",
      "4301-VVZKA    1\n",
      "3283-WCWXT    1\n",
      "4210-QFJMF    1\n",
      "0956-SYCWG    1\n",
      "5360-XGYAZ    1\n",
      "5170-PTRKA    1\n",
      "4873-ILOLJ    1\n",
      "2690-DVRVK    1\n",
      "3307-TLCUD    1\n",
      "6917-IAYHD    1\n",
      "7576-JMYWV    1\n",
      "5339-PXDVH    1\n",
      "5995-WWKKG    1\n",
      "3884-HCSWG    1\n",
      "7996-MHXLW    1\n",
      "3027-ZTDHO    1\n",
      "6253-GNHWH    1\n",
      "3011-WQKSZ    1\n",
      "0297-RBCSG    1\n",
      "4462-CYWMH    1\n",
      "3941-XTSKM    1\n",
      "8606-OEGQZ    1\n",
      "1299-AURJA    1\n",
      "6351-SCJKT    1\n",
      "4468-YDOVK    1\n",
      "7928-VJYAB    1\n",
      "1734-ZMNTZ    1\n",
      "2604-IJPDU    1\n",
      "5982-FPVQN    1\n",
      "5204-QZXPU    1\n",
      "3285-UCQVC    1\n",
      "9795-SHUHB    1\n",
      "7359-SSBJK    1\n",
      "1442-BQPVU    1\n",
      "3439-GVUSX    1\n",
      "9840-DVNDC    1\n",
      "9957-YODKZ    1\n",
      "7817-BOQPW    1\n",
      "0104-PPXDV    1\n",
      "4818-DRBQT    1\n",
      "7445-WMRBW    1\n",
      "7356-IWLFW    1\n",
      "1729-VLAZJ    1\n",
      "5449-FIBXJ    1\n",
      "7771-CFQRQ    1\n",
      "5296-BFCYD    1\n",
      "6029-CSMJE    1\n",
      "3737-XBQDD    1\n",
      "3627-FHKBK    1\n",
      "2424-WVHPL    1\n",
      "8207-VVMYB    1\n",
      "6713-OKOMC    1\n",
      "4003-OCTMP    1\n",
      "9938-PRCVK    1\n",
      "2545-EBUPK    1\n",
      "9114-AAFQH    1\n",
      "0454-OKRCT    1\n",
      "0439-IFYUN    1\n",
      "3085-QUOZK    1\n",
      "             ..\n",
      "7929-DMBCV    1\n",
      "2911-WDXMV    1\n",
      "7321-PKUYW    1\n",
      "8468-EHYJA    1\n",
      "7511-YMXVQ    1\n",
      "4350-ZTLPI    1\n",
      "5346-BZCHP    1\n",
      "8819-WFGGJ    1\n",
      "9055-MOJJJ    1\n",
      "3195-TQDZX    1\n",
      "2506-CLAKW    1\n",
      "7531-GQHME    1\n",
      "9633-DENPU    1\n",
      "2225-ZRGSG    1\n",
      "1955-IBMMB    1\n",
      "5276-KQWHG    1\n",
      "5201-USSQZ    1\n",
      "9897-KXHCM    1\n",
      "2023-VQFDL    1\n",
      "6010-DDPPW    1\n",
      "1582-RAFML    1\n",
      "5762-TJXGK    1\n",
      "4063-EIKNQ    1\n",
      "5057-LCOUI    1\n",
      "2121-JAFOM    1\n",
      "5174-RNGBH    1\n",
      "0135-NMXAP    1\n",
      "9763-GRSKD    1\n",
      "5392-AKEMH    1\n",
      "1099-BTKWT    1\n",
      "9040-KZVWO    1\n",
      "0259-GBZSH    1\n",
      "0397-ZXWQF    1\n",
      "7851-FLGGQ    1\n",
      "3327-YBAKM    1\n",
      "5222-IMUKT    1\n",
      "1794-HBQTJ    1\n",
      "5312-TSZVC    1\n",
      "1845-ZLLIG    1\n",
      "4712-AUQZO    1\n",
      "2931-FSOHN    1\n",
      "2692-AQCPF    1\n",
      "1685-VAYJF    1\n",
      "2251-PYLPB    1\n",
      "8714-EUHJO    1\n",
      "6303-KFWSL    1\n",
      "9297-EONCV    1\n",
      "8097-OMULG    1\n",
      "6870-ZWMNX    1\n",
      "8111-BKVDS    1\n",
      "5562-BETPV    1\n",
      "6128-AQBMT    1\n",
      "1414-YADCW    1\n",
      "2386-LAHRK    1\n",
      "5038-ETMLM    1\n",
      "5816-JMLGY    1\n",
      "6857-VWJDT    1\n",
      "8242-PDSGJ    1\n",
      "3070-DVEYC    1\n",
      "5481-NTDOH    1\n",
      "6686-YPGHK    1\n",
      "5846-NEQVZ    1\n",
      "2599-CZABP    1\n",
      "4817-QRJSX    1\n",
      "5353-WILCI    1\n",
      "5356-KZCKT    1\n",
      "8857-CUPFQ    1\n",
      "9309-BZGNT    1\n",
      "3440-JPSCL    1\n",
      "3170-NMYVV    1\n",
      "6963-EZQEE    1\n",
      "1741-WTPON    1\n",
      "4623-ZKHLY    1\n",
      "6332-FBZRI    1\n",
      "2921-XWDJH    1\n",
      "7025-IWFHT    1\n",
      "1335-NTIUC    1\n",
      "8417-GSODA    1\n",
      "5914-DVBWJ    1\n",
      "3740-RLMVT    1\n",
      "6689-VRRTK    1\n",
      "0556-FJEGU    1\n",
      "1431-AIDJQ    1\n",
      "0247-SLUJI    1\n",
      "1131-QQZEB    1\n",
      "Name: customer_id, Length: 7043, dtype: int64\n",
      "\n",
      "\n",
      "gender:\n",
      "Male      3555\n",
      "Female    3488\n",
      "Name: gender, dtype: int64\n",
      "\n",
      "\n",
      "senior_citizen:\n",
      "0    5901\n",
      "1    1142\n",
      "Name: senior_citizen, dtype: int64\n",
      "\n",
      "\n",
      "partner:\n",
      "No     3641\n",
      "Yes    3402\n",
      "Name: partner, dtype: int64\n",
      "\n",
      "\n",
      "dependents:\n",
      "No     4933\n",
      "Yes    2110\n",
      "Name: dependents, dtype: int64\n",
      "\n",
      "\n",
      "tenure:\n",
      "(-0.073, 7.2]    1612\n",
      "(7.2, 14.4]       759\n",
      "(14.4, 21.6]      570\n",
      "(21.6, 28.8]      556\n",
      "(28.8, 36.0]      545\n",
      "(36.0, 43.2]      444\n",
      "(43.2, 50.4]      452\n",
      "(50.4, 57.6]      495\n",
      "(57.6, 64.8]      501\n",
      "(64.8, 72.0]     1109\n",
      "Name: tenure, dtype: int64\n",
      "\n",
      "\n",
      "phone_service:\n",
      "Yes    6361\n",
      "No      682\n",
      "Name: phone_service, dtype: int64\n",
      "\n",
      "\n",
      "multiple_lines:\n",
      "No                  3390\n",
      "Yes                 2971\n",
      "No phone service     682\n",
      "Name: multiple_lines, dtype: int64\n",
      "\n",
      "\n",
      "internet_service_type_id:\n",
      "2    3096\n",
      "1    2421\n",
      "3    1526\n",
      "Name: internet_service_type_id, dtype: int64\n",
      "\n",
      "\n",
      "online_security:\n",
      "No                     3498\n",
      "Yes                    2019\n",
      "No internet service    1526\n",
      "Name: online_security, dtype: int64\n",
      "\n",
      "\n",
      "online_backup:\n",
      "No                     3088\n",
      "Yes                    2429\n",
      "No internet service    1526\n",
      "Name: online_backup, dtype: int64\n",
      "\n",
      "\n",
      "device_protection:\n",
      "No                     3095\n",
      "Yes                    2422\n",
      "No internet service    1526\n",
      "Name: device_protection, dtype: int64\n",
      "\n",
      "\n",
      "tech_support:\n",
      "No                     3473\n",
      "Yes                    2044\n",
      "No internet service    1526\n",
      "Name: tech_support, dtype: int64\n",
      "\n",
      "\n",
      "streaming_tv:\n",
      "No                     2810\n",
      "Yes                    2707\n",
      "No internet service    1526\n",
      "Name: streaming_tv, dtype: int64\n",
      "\n",
      "\n",
      "streaming_movies:\n",
      "No                     2785\n",
      "Yes                    2732\n",
      "No internet service    1526\n",
      "Name: streaming_movies, dtype: int64\n",
      "\n",
      "\n",
      "contract_type_id:\n",
      "1    3875\n",
      "3    1695\n",
      "2    1473\n",
      "Name: contract_type_id, dtype: int64\n",
      "\n",
      "\n",
      "paperless_billing:\n",
      "Yes    4171\n",
      "No     2872\n",
      "Name: paperless_billing, dtype: int64\n",
      "\n",
      "\n",
      "payment_type_id:\n",
      "1    2365\n",
      "2    1612\n",
      "3    1544\n",
      "4    1522\n",
      "Name: payment_type_id, dtype: int64\n",
      "\n",
      "\n",
      "monthly_charges:\n",
      "(18.148999999999997, 28.3]    1606\n",
      "(28.3, 38.35]                  191\n",
      "(38.35, 48.4]                  365\n",
      "(48.4, 58.45]                  640\n",
      "(58.45, 68.5]                  474\n",
      "(68.5, 78.55]                  893\n",
      "(78.55, 88.6]                  953\n",
      "(88.6, 98.65]                  873\n",
      "(98.65, 108.7]                 754\n",
      "(108.7, 118.75]                294\n",
      "Name: monthly_charges, dtype: int64\n",
      "\n",
      "\n",
      "total_charges:\n",
      "           11\n",
      "20.2       11\n",
      "19.75       9\n",
      "19.65       8\n",
      "19.9        8\n",
      "20.05       8\n",
      "45.3        7\n",
      "19.55       7\n",
      "19.45       6\n",
      "20.15       6\n",
      "20.25       6\n",
      "20.45       5\n",
      "20.3        5\n",
      "20.4        4\n",
      "19.3        4\n",
      "69.6        4\n",
      "74.7        4\n",
      "44.4        4\n",
      "69.9        4\n",
      "75.3        4\n",
      "69.95       4\n",
      "20.5        4\n",
      "19.2        4\n",
      "69.65       4\n",
      "19.4        4\n",
      "44          4\n",
      "50.15       4\n",
      "70.6        4\n",
      "19.95       4\n",
      "49.9        4\n",
      "19.5        4\n",
      "20.35       4\n",
      "19.85       4\n",
      "1284.2      3\n",
      "69.1        3\n",
      "74.6        3\n",
      "45.7        3\n",
      "74.35       3\n",
      "45.85       3\n",
      "45.1        3\n",
      "305.55      3\n",
      "84.5        3\n",
      "69.25       3\n",
      "383.65      3\n",
      "44.75       3\n",
      "74.9        3\n",
      "80.55       3\n",
      "70.1        3\n",
      "20          3\n",
      "70.15       3\n",
      "19.1        3\n",
      "25.25       3\n",
      "50.6        3\n",
      "20.1        3\n",
      "470.2       3\n",
      "85          3\n",
      "24.8        3\n",
      "50.45       3\n",
      "70.45       3\n",
      "79.55       3\n",
      "86.05       3\n",
      "35.9        3\n",
      "19.25       3\n",
      "220.45      3\n",
      "69.55       3\n",
      "50.75       3\n",
      "74.3        3\n",
      "2317.1      3\n",
      "70.3        3\n",
      "85.5        3\n",
      "20.9        3\n",
      "75.35       3\n",
      "55.7        3\n",
      "20.55       3\n",
      "24.4        3\n",
      "1642.75     2\n",
      "44.9        2\n",
      "669.45      2\n",
      "50.55       2\n",
      "1782.4      2\n",
      "1734.5      2\n",
      "2254.2      2\n",
      "70.05       2\n",
      "181.65      2\n",
      "601.6       2\n",
      "           ..\n",
      "310.6       1\n",
      "61.35       1\n",
      "392.5       1\n",
      "3923.8      1\n",
      "216.9       1\n",
      "60          1\n",
      "1900.25     1\n",
      "5624.85     1\n",
      "1021.75     1\n",
      "926.2       1\n",
      "455.3       1\n",
      "321.65      1\n",
      "1934.45     1\n",
      "627.4       1\n",
      "2424.5      1\n",
      "3035.35     1\n",
      "4874.8      1\n",
      "2911.5      1\n",
      "3488.15     1\n",
      "3862.55     1\n",
      "3110.1      1\n",
      "1497.9      1\n",
      "662.65      1\n",
      "1625        1\n",
      "1712.7      1\n",
      "164.85      1\n",
      "1052.35     1\n",
      "600.15      1\n",
      "1698.55     1\n",
      "3094.05     1\n",
      "510.8       1\n",
      "7112.15     1\n",
      "2603.95     1\n",
      "3810.55     1\n",
      "563.05      1\n",
      "1218.65     1\n",
      "1009.25     1\n",
      "1130        1\n",
      "7939.25     1\n",
      "540.95      1\n",
      "1372.45     1\n",
      "1753        1\n",
      "346.2       1\n",
      "923.85      1\n",
      "412.55      1\n",
      "2588.95     1\n",
      "5885.4      1\n",
      "384.5       1\n",
      "59.25       1\n",
      "2606.35     1\n",
      "4014.2      1\n",
      "394.1       1\n",
      "364.55      1\n",
      "4242.35     1\n",
      "4237.5      1\n",
      "4254.1      1\n",
      "793.55      1\n",
      "1301.7      1\n",
      "1794.8      1\n",
      "184.95      1\n",
      "875.55      1\n",
      "2877.05     1\n",
      "958.25      1\n",
      "239.05      1\n",
      "5253.95     1\n",
      "930.05      1\n",
      "1374.9      1\n",
      "4018.35     1\n",
      "478.1       1\n",
      "5168.1      1\n",
      "3784        1\n",
      "927.1       1\n",
      "7053.35     1\n",
      "1857.25     1\n",
      "415.05      1\n",
      "1597.05     1\n",
      "821.6       1\n",
      "1087.45     1\n",
      "2080.1      1\n",
      "3882.3      1\n",
      "7840.6      1\n",
      "3959.15     1\n",
      "1672.15     1\n",
      "2917.5      1\n",
      "2462.6      1\n",
      "Name: total_charges, Length: 6531, dtype: int64\n",
      "\n",
      "\n",
      "churn:\n",
      "No     5174\n",
      "Yes    1869\n",
      "Name: churn, dtype: int64\n",
      "\n",
      "\n"
     ]
    }
   ],
   "source": [
    "df_value_counts(df)"
   ]
  },
  {
   "cell_type": "markdown",
   "metadata": {},
   "source": [
    "2. Handle Missing Values\n",
    "\n",
    "    - Explore the data and see if there are any missing values.\n",
    "\n",
    "    Write a function that accepts a dataframe and returns the names of the columns that have missing values, and the percent of missing values in each column that has missing values.\n",
    "\n",
    "    - Document your takeaways. For each variable:\n",
    "\n",
    "        - should you remove the observations with a missing value for that variable?\n",
    "        - should you remove the variable altogether?\n",
    "        - is missing equivalent to 0 (or some other constant value) in the specific case of this variable?\n",
    "        - should you replace the missing values with a value it is most likely to represent (e.g. Are the missing values a result of data integrity issues and should be replaced by the most likely value?)\n",
    "        \n",
    "    - Handle the missing values in the way you recommended above."
   ]
  },
  {
   "cell_type": "code",
   "execution_count": 140,
   "metadata": {},
   "outputs": [
    {
     "data": {
      "text/plain": [
       "customer_id                  0\n",
       "gender                       0\n",
       "senior_citizen               0\n",
       "partner                      0\n",
       "dependents                   0\n",
       "tenure                       0\n",
       "phone_service                0\n",
       "multiple_lines               0\n",
       "internet_service_type_id     0\n",
       "online_security              0\n",
       "online_backup                0\n",
       "device_protection            0\n",
       "tech_support                 0\n",
       "streaming_tv                 0\n",
       "streaming_movies             0\n",
       "contract_type_id             0\n",
       "paperless_billing            0\n",
       "payment_type_id              0\n",
       "monthly_charges              0\n",
       "total_charges               11\n",
       "churn                        0\n",
       "dtype: int64"
      ]
     },
     "execution_count": 140,
     "metadata": {},
     "output_type": "execute_result"
    }
   ],
   "source": [
    "df['total_charges'] = df['total_charges'].replace(r'\\s+', np.nan, regex=True)\n",
    "df.isnull().sum()"
   ]
  },
  {
   "cell_type": "code",
   "execution_count": 141,
   "metadata": {},
   "outputs": [
    {
     "data": {
      "text/plain": [
       "customer_id                 0\n",
       "gender                      0\n",
       "senior_citizen              0\n",
       "partner                     0\n",
       "dependents                  0\n",
       "tenure                      0\n",
       "phone_service               0\n",
       "multiple_lines              0\n",
       "internet_service_type_id    0\n",
       "online_security             0\n",
       "online_backup               0\n",
       "device_protection           0\n",
       "tech_support                0\n",
       "streaming_tv                0\n",
       "streaming_movies            0\n",
       "contract_type_id            0\n",
       "paperless_billing           0\n",
       "payment_type_id             0\n",
       "monthly_charges             0\n",
       "total_charges               0\n",
       "churn                       0\n",
       "dtype: int64"
      ]
     },
     "execution_count": 141,
     "metadata": {},
     "output_type": "execute_result"
    }
   ],
   "source": [
    "df = df.fillna(0)\n",
    "df.isnull().sum()"
   ]
  },
  {
   "cell_type": "markdown",
   "metadata": {},
   "source": [
    "#### Transform ```churn``` such that \"yes\" = 1 and \"no\" = 0"
   ]
  },
  {
   "cell_type": "code",
   "execution_count": 142,
   "metadata": {},
   "outputs": [],
   "source": [
    "encoder = LabelEncoder()\n",
    "\n",
    "encoder.fit(df.churn)\n",
    "df.churn = encoder.transform(df.churn)"
   ]
  },
  {
   "cell_type": "code",
   "execution_count": 143,
   "metadata": {},
   "outputs": [
    {
     "data": {
      "text/plain": [
       "0    5174\n",
       "1    1869\n",
       "Name: churn, dtype: int64"
      ]
     },
     "execution_count": 143,
     "metadata": {},
     "output_type": "execute_result"
    }
   ],
   "source": [
    "df.churn.value_counts(dropna=False)"
   ]
  },
  {
   "cell_type": "markdown",
   "metadata": {},
   "source": [
    "#### Compute a new feature, ```tenure_year``` , that is a result of translating tenure from months to years."
   ]
  },
  {
   "cell_type": "markdown",
   "metadata": {},
   "source": [
    "#### *NEW variable tenure year*\n",
    "    tenure_year will calculate how many years of tenure based on the number of months"
   ]
  },
  {
   "cell_type": "code",
   "execution_count": 144,
   "metadata": {},
   "outputs": [],
   "source": [
    "df[['tenure_year']] = df[['tenure']]/12"
   ]
  },
  {
   "cell_type": "markdown",
   "metadata": {},
   "source": [
    "#### Figure out a way to capture the information contained in ```phone_service``` and ```multiple_lines``` into a single variable of dtype int. Write a function that will transform the data and place in a new column named ```phone_id```."
   ]
  },
  {
   "cell_type": "markdown",
   "metadata": {},
   "source": [
    "#### *New Variable* _'phone id'_\n",
    "    0 = Does phone service\n",
    "    1 = Has one phone line\n",
    "    2 = Has multiple lines"
   ]
  },
  {
   "cell_type": "code",
   "execution_count": 145,
   "metadata": {},
   "outputs": [],
   "source": [
    "df['phone_id'] = df['phone_service'].map(str) + df['multiple_lines']\n",
    "df['phone_id'] = df['phone_id'].replace({'NoNo phone service': 0, 'YesNo': 1, 'YesYes': 2})"
   ]
  },
  {
   "cell_type": "markdown",
   "metadata": {},
   "source": [
    "#### Figure out a way to capture the information contained in ```dependents``` and ```partner``` into a single variable of dtype int. Transform the data and place in a new column ```household_type_id```."
   ]
  },
  {
   "cell_type": "markdown",
   "metadata": {},
   "source": [
    "#### *New Variable* _'household type id'_\n",
    "    0 = Does not have a dependent or a partner\n",
    "    1 = Only has a dependent\n",
    "    2 = Only has a partner\n",
    "    3 = Has BOTH a dependent and a partner"
   ]
  },
  {
   "cell_type": "code",
   "execution_count": 146,
   "metadata": {},
   "outputs": [],
   "source": [
    "df['household_type_id'] = df['dependents'].map(str) + df['partner']\n",
    "df['household_type_id'] = df['household_type_id'].replace({'NoNo': 0, 'NoYes': 1, 'YesNo': 2, 'YesYes': 3})"
   ]
  },
  {
   "cell_type": "markdown",
   "metadata": {},
   "source": [
    "#### Figure out a way to capture the information contained in streaming_tv and streaming_movies into a single variable of dtype int. Transform the data and place in a new column streaming_services."
   ]
  },
  {
   "cell_type": "markdown",
   "metadata": {},
   "source": [
    "#### *New Variable* _'streaming services'_\n",
    "    0 = Does not have streaming services\n",
    "    1 = Only Movie Streaming Services\n",
    "    2 = Only TV Streaming Services\n",
    "    3 = Has BOTH Movie and TV Streaming Services"
   ]
  },
  {
   "cell_type": "code",
   "execution_count": 147,
   "metadata": {},
   "outputs": [],
   "source": [
    "df['streaming_services'] = df['streaming_tv'].map(str) + df['streaming_movies']\n",
    "df['streaming_services'] = df['streaming_services'].replace({'NoNo': 0, 'NoYes': 1, 'YesNo': 2, 'YesYes': 3})"
   ]
  },
  {
   "cell_type": "markdown",
   "metadata": {},
   "source": [
    "#### Figure out a way to capture the information contained in online_security and online_backup into a single variable of dtype int. Transform the data and place in a new column online_security_backup."
   ]
  },
  {
   "cell_type": "markdown",
   "metadata": {},
   "source": [
    "#### *New Variable* _'online security backup'_\n",
    "    0 = Does not have online security or backup\n",
    "    1 = Only has online security\n",
    "    2 = Only has online backup\n",
    "    3 = Has BOTH online security and online backup"
   ]
  },
  {
   "cell_type": "code",
   "execution_count": 148,
   "metadata": {},
   "outputs": [],
   "source": [
    "df['online_security_backup'] = df['online_security'].map(str) + df['online_backup']\n",
    "df['online_security_backup'] = df['online_security_backup'].replace({'NoNo': 0, 'NoYes': 1, 'YesNo': 2, 'YesYes': 3, 'No internet serviceNo internet service': 4})"
   ]
  },
  {
   "cell_type": "markdown",
   "metadata": {},
   "source": [
    "#### Split the data into train (70%) & test (30%) samples."
   ]
  },
  {
   "cell_type": "code",
   "execution_count": 149,
   "metadata": {},
   "outputs": [],
   "source": [
    "train_df, test_df = train_test_split(df, test_size=.30, random_state=123, stratify=df[['churn']])"
   ]
  },
  {
   "cell_type": "code",
   "execution_count": 150,
   "metadata": {},
   "outputs": [
    {
     "data": {
      "text/plain": [
       "array(['gender', 'senior_citizen', 'tenure', 'internet_service_type_id',\n",
       "       'device_protection', 'tech_support', 'contract_type_id',\n",
       "       'paperless_billing', 'payment_type_id', 'monthly_charges',\n",
       "       'total_charges', 'churn', 'tenure_year', 'phone_id',\n",
       "       'household_type_id', 'streaming_services',\n",
       "       'online_security_backup'], dtype=object)"
      ]
     },
     "execution_count": 150,
     "metadata": {},
     "output_type": "execute_result"
    }
   ],
   "source": [
    "cols_to_remove = ['customer_id', 'phone_service', 'multiple_lines', 'dependents', 'partner', 'streaming_tv', 'streaming_movies',\n",
    "                  'online_security', 'online_backup']\n",
    "\n",
    "train_df = train_df.drop(cols_to_remove, axis=1)\n",
    "train_df.columns.values"
   ]
  },
  {
   "cell_type": "markdown",
   "metadata": {},
   "source": [
    "#### Variable Encoding: encode the values in each non-numeric feature such that they are numeric."
   ]
  },
  {
   "cell_type": "code",
   "execution_count": 151,
   "metadata": {},
   "outputs": [],
   "source": [
    "### Function that will turn feature variables into boolean values\n",
    "def change_to_boolean(x):\n",
    "    if x == 'Yes':\n",
    "        new_val = 1\n",
    "    else:\n",
    "        new_val = 0\n",
    "    return new_val"
   ]
  },
  {
   "cell_type": "code",
   "execution_count": 152,
   "metadata": {},
   "outputs": [],
   "source": [
    "cols_to_bool = ['paperless_billing', 'device_protection', 'tech_support']\n",
    "\n",
    "for col in cols_to_bool:\n",
    "    new_col_name = 'has_'+col\n",
    "    train_df[new_col_name] = train_df[col].apply(lambda x: change_to_boolean(x))\n",
    "    train_df = train_df.drop([col], axis=1)"
   ]
  },
  {
   "cell_type": "markdown",
   "metadata": {},
   "source": [
    "#### Numeric Scaling: scale the monthly_charges and total_charges data. Make sure that the parameters for scaling are learned from the training data set."
   ]
  },
  {
   "cell_type": "code",
   "execution_count": 159,
   "metadata": {},
   "outputs": [],
   "source": [
    "scaler = MinMaxScaler()\n",
    "\n",
    "scaler.fit(train_df[['monthly_charges', 'total_charges']])\n",
    "\n",
    "train_df[['monthly_charges', 'total_charges']] = scaler.transform(train_df[['monthly_charges', 'total_charges']])\n",
    "test_df[['monthly_charges', 'total_charges']] = scaler.transform(test_df[['monthly_charges', 'total_charges']])"
   ]
  },
  {
   "cell_type": "markdown",
   "metadata": {},
   "source": [
    "### Data Exploration"
   ]
  },
  {
   "cell_type": "markdown",
   "metadata": {},
   "source": [
    "1. Could the month in which they signed up influence churn? i.e. if a cohort is identified by tenure, is there a cohort or cohorts who have a higher rate of churn than other cohorts? (Plot the rate of churn on a line chart where x is the tenure and y is the rate of churn (customers churned/total customers))."
   ]
  },
  {
   "cell_type": "code",
   "execution_count": 156,
   "metadata": {},
   "outputs": [
    {
     "data": {
      "text/plain": [
       "<matplotlib.axes._subplots.AxesSubplot at 0x1a2e23e2b0>"
      ]
     },
     "execution_count": 156,
     "metadata": {},
     "output_type": "execute_result"
    },
    {
     "data": {
      "image/png": "[encoded data removed]",
      "text/plain": [
       "<Figure size 432x288 with 1 Axes>"
      ]
     },
     "metadata": {
      "needs_background": "light"
     },
     "output_type": "display_data"
    }
   ],
   "source": [
    "# Could the month in which they signed up influence churn?\n",
    "\n",
    "sns.lineplot(x='tenure', y='churn', data = df)"
   ]
  },
  {
   "cell_type": "markdown",
   "metadata": {},
   "source": [
    "2. Are there features that indicate a higher propensity to churn? like type of internet service, type of phone service, online security and backup, senior citizens, paying more than x% of customers with the same services, etc.?"
   ]
  },
  {
   "cell_type": "code",
   "execution_count": 157,
   "metadata": {},
   "outputs": [
    {
     "ename": "IndentationError",
     "evalue": "unexpected indent (<ipython-input-157-089672f7e9f0>, line 2)",
     "output_type": "error",
     "traceback": [
      "\u001b[0;36m  File \u001b[0;32m\"<ipython-input-157-089672f7e9f0>\"\u001b[0;36m, line \u001b[0;32m2\u001b[0m\n\u001b[0;31m    print('Internet Services')\u001b[0m\n\u001b[0m    ^\u001b[0m\n\u001b[0;31mIndentationError\u001b[0m\u001b[0;31m:\u001b[0m unexpected indent\n"
     ]
    }
   ],
   "source": [
    "sns.lineplot(x='tenure', y='internet_service_type_id', data = df)\n",
    "    print('Internet Services')\n",
    "sns.lineplot(x='tenure', y='monthly_charges', data = df)\n",
    "    print('Internet Services')\n",
    "sns.lineplot(x='tenure', y='monthly_charges', data = df)\n",
    "    print('Internet Services')\n",
    "sns.lineplot(x='tenure', y='monthly_charges', data = df)\n",
    "    print('Internet Services')\n",
    "sns.lineplot(x='tenure', y='monthly_charges', data = df)\n",
    "    print('Internet Services')"
   ]
  },
  {
   "cell_type": "markdown",
   "metadata": {},
   "source": [
    "3. Is there a price threshold for specific services where the likelihood of churn increases once price for those services goes past that point? If so, what is that point for what service(s)?"
   ]
  },
  {
   "cell_type": "code",
   "execution_count": null,
   "metadata": {},
   "outputs": [],
   "source": []
  },
  {
   "cell_type": "markdown",
   "metadata": {},
   "source": [
    "4. If we looked at churn rate for month-to-month customers after the 12th month and that of 1-year contract customers after the 12th month, are those rates comparable?"
   ]
  },
  {
   "cell_type": "code",
   "execution_count": null,
   "metadata": {},
   "outputs": [],
   "source": []
  },
  {
   "cell_type": "markdown",
   "metadata": {},
   "source": [
    "5. Controlling for services (phone_id, internet_service_type_id, online_security_backup, device_protection, tech_support, and contract_type_id), is the mean monthly_charges of those who have churned significantly different from that of those who have not churned? (Use a t-test to answer this.)"
   ]
  },
  {
   "cell_type": "code",
   "execution_count": null,
   "metadata": {},
   "outputs": [],
   "source": []
  },
  {
   "cell_type": "markdown",
   "metadata": {},
   "source": [
    "6. How much of ```monthly_charges``` can be explained by ```internet_service_type```? (hint: correlation test). State your hypotheses and your conclusion clearly."
   ]
  },
  {
   "cell_type": "code",
   "execution_count": null,
   "metadata": {},
   "outputs": [],
   "source": []
  },
  {
   "cell_type": "markdown",
   "metadata": {},
   "source": [
    "7. How much of ```monthly_charges``` can be explained by ```internet_service_type``` + phone service type (0, 1, or multiple lines). State your hypotheses and your conclusion clearly."
   ]
  },
  {
   "cell_type": "code",
   "execution_count": null,
   "metadata": {},
   "outputs": [],
   "source": []
  },
  {
   "cell_type": "markdown",
   "metadata": {},
   "source": [
    "8. Create visualizations exploring the interactions of variables (independent with independent and independent with dependent). The goal is to identify features that are related to churn, identify any data integrity issues, understand 'how the data works'. For example, we may find that all who have online services also have device protection. In that case, we don't need both of those. (The visualizations done in your analysis for questions 1-5 count towards the requirements below)\n",
    "\n",
    "    - Each independent variable (except for customer_id) should be visualized in at least two plots, and at least 1 of those compares the independent variable with the dependent variable.\n",
    "\n",
    "    - For each plot where x and y are independent variables, add a third dimension (where possible), of churn represented by color.\n",
    "\n",
    "    - Use subplots when plotting the same type of chart but with different variables.\n",
    "\n",
    "    - Adjust the axes as necessary to extract information from the visualizations (adjusting the x & y limits, setting the scale where needed, etc.)\n",
    "\n",
    "    - Add annotations to at least 5 plots with a key takeaway from that plot.\n",
    "\n",
    "    - Use plots from matplotlib, pandas and seaborn.\n",
    "\n",
    "    - Use each of the following:\n",
    "\n",
    "        - sns.heatmap\n",
    "        - pd.crosstab (along with sns.heatmap)\n",
    "        - pd.scatter_matrix\n",
    "        - sns.barplot\n",
    "        - sns.swarmplot\n",
    "        - sns.pairplot\n",
    "        - sns.jointplot\n",
    "        - sns.relplot or plt.scatter\n",
    "        - sns.distplot or plt.hist\n",
    "        - sns.boxplot\n",
    "        - plt.plot\n",
    "\n",
    "    - Use at least one more type of plot that is not included in the list above."
   ]
  },
  {
   "cell_type": "code",
   "execution_count": null,
   "metadata": {},
   "outputs": [],
   "source": []
  },
  {
   "cell_type": "markdown",
   "metadata": {},
   "source": [
    "9. What can you say about each variable's relationship to churn, based on your initial exploration? If there appears to be some sort of interaction or correlation, assume there is no causal relationship and brainstorm (and document) ideas on reasons there could be correlation."
   ]
  },
  {
   "cell_type": "code",
   "execution_count": null,
   "metadata": {},
   "outputs": [],
   "source": []
  },
  {
   "cell_type": "markdown",
   "metadata": {},
   "source": [
    "10. Summarize your conclusions, provide clear answers to the specific questions, and summarize any takeaways/action plan from the work above."
   ]
  },
  {
   "cell_type": "code",
   "execution_count": null,
   "metadata": {},
   "outputs": [],
   "source": []
  },
  {
   "cell_type": "markdown",
   "metadata": {},
   "source": [
    "### Modeling"
   ]
  },
  {
   "cell_type": "markdown",
   "metadata": {},
   "source": [
    "1. Feature Selection: Are there any variables that seem to provide limited to no additional information? If so, remove them."
   ]
  },
  {
   "cell_type": "code",
   "execution_count": null,
   "metadata": {},
   "outputs": [],
   "source": []
  },
  {
   "cell_type": "markdown",
   "metadata": {},
   "source": [
    "2. Train (fit, transform, evaluate) multiple different models, varying the model type and your meta-parameters."
   ]
  },
  {
   "cell_type": "code",
   "execution_count": null,
   "metadata": {},
   "outputs": [],
   "source": []
  },
  {
   "cell_type": "markdown",
   "metadata": {},
   "source": [
    "3. Compare evaluation metrics across all the models, and select the best performing model."
   ]
  },
  {
   "cell_type": "code",
   "execution_count": null,
   "metadata": {},
   "outputs": [],
   "source": []
  },
  {
   "cell_type": "markdown",
   "metadata": {},
   "source": [
    "4. Test the final model (transform, evaluate) on your out-of-sample data (the testing data set). Summarize the performance. Interpret your results."
   ]
  },
  {
   "cell_type": "code",
   "execution_count": null,
   "metadata": {},
   "outputs": [],
   "source": []
  }
 ],
 "metadata": {
  "kernelspec": {
   "display_name": "Python 3",
   "language": "python",
   "name": "python3"
  },
  "language_info": {
   "codemirror_mode": {
    "name": "ipython",
    "version": 3
   },
   "file_extension": ".py",
   "mimetype": "text/x-python",
   "name": "python",
   "nbconvert_exporter": "python",
   "pygments_lexer": "ipython3",
   "version": "3.7.1"
  }
 },
 "nbformat": 4,
 "nbformat_minor": 2
}
